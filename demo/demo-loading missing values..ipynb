{
 "cells": [
  {
   "cell_type": "markdown",
   "metadata": {},
   "source": [
    "# Object Detection with SSD\n",
    "### Here we demostrate detection on example images using SSD with PyTorch"
   ]
  },
  {
   "cell_type": "code",
   "execution_count": 1,
   "metadata": {
    "collapsed": false
   },
   "outputs": [
    {
     "data": {
      "application/javascript": [
       "\n",
       "IPython.keyboard_manager.edit_shortcuts.add_shortcut('ctrl-enter', {\n",
       "    help : \"run cell and keep focus\", //This is optional\n",
       "    handler : function (event) {\n",
       "        IPython.notebook.execute_cell();\n",
       "        IPython.notebook.edit_mode();\n",
       "        return false;\n",
       "    }}\n",
       ");"
      ],
      "text/plain": [
       "<IPython.core.display.Javascript object>"
      ]
     },
     "metadata": {},
     "output_type": "display_data"
    }
   ],
   "source": [
    "%%javascript\n",
    "\n",
    "IPython.keyboard_manager.edit_shortcuts.add_shortcut('ctrl-enter', {\n",
    "    help : \"run cell and keep focus\", //This is optional\n",
    "    handler : function (event) {\n",
    "        IPython.notebook.execute_cell();\n",
    "        IPython.notebook.edit_mode();\n",
    "        return false;\n",
    "    }}\n",
    ");"
   ]
  },
  {
   "cell_type": "code",
   "execution_count": 2,
   "metadata": {
    "collapsed": false
   },
   "outputs": [],
   "source": [
    "import os\n",
    "import sys\n",
    "module_path = os.path.abspath(os.path.join('..'))\n",
    "if module_path not in sys.path:\n",
    "    sys.path.append(module_path)\n",
    "\n",
    "import torch\n",
    "import torch.nn as nn\n",
    "import torch.backends.cudnn as cudnn\n",
    "from torch.autograd import Variable\n",
    "import torch.utils.data as data\n",
    "import torchvision.transforms as transform\n",
    "\n",
    "from torch.utils.serialization import load_lua\n",
    "import numpy as np\n",
    "import cv2\n",
    "if torch.cuda.is_available():\n",
    "    torch.set_default_tensor_type('torch.cuda.FloatTensor')\n",
    "\n",
    "from ssd import build_ssd\n",
    "# from models import build_ssd as build_ssd_v1 # uncomment for older pool6 model"
   ]
  },
  {
   "cell_type": "markdown",
   "metadata": {},
   "source": [
    "## Build SSD300 in Test Phase\n",
    "1. Build the architecture, specifyingsize of the input image (300),\n",
    "    and number of object classes to score (21 for VOC dataset)\n",
    "2. Next we load pretrained weights on the VOC0712 trainval dataset  "
   ]
  },
  {
   "cell_type": "code",
   "execution_count": 3,
   "metadata": {
    "collapsed": false
   },
   "outputs": [],
   "source": [
    "net = build_ssd('test', 300, 20, controller_bias=False, controller_sigmoid=False,  # initialize SSD\n",
    "                        insertBNLayers=False, residual_controllers=True,add_relu=False,\n",
    "                    add_hint_interpreter = False)"
   ]
  },
  {
   "cell_type": "code",
   "execution_count": 4,
   "metadata": {
    "collapsed": false
   },
   "outputs": [
    {
     "data": {
      "text/plain": [
       "odict_keys(['vgg.0.weight', 'vgg.0.bias', 'vgg.2.weight', 'vgg.2.bias', 'vgg.5.weight', 'vgg.5.bias', 'vgg.7.weight', 'vgg.7.bias', 'vgg.10.weight', 'vgg.10.bias', 'vgg.12.weight', 'vgg.12.bias', 'vgg.14.weight', 'vgg.14.bias', 'vgg.17.weight', 'vgg.17.bias', 'vgg.19.weight', 'vgg.19.bias', 'vgg.21.weight', 'vgg.21.bias', 'vgg.24.weight', 'vgg.24.bias', 'vgg.26.weight', 'vgg.26.bias', 'vgg.28.weight', 'vgg.28.bias', 'vgg.31.weight', 'vgg.31.bias', 'vgg.33.weight', 'vgg.33.bias', 'L2Norm.weight', 'extras.0.weight', 'extras.0.bias', 'extras.1.weight', 'extras.1.bias', 'extras.2.weight', 'extras.2.bias', 'extras.3.weight', 'extras.3.bias', 'extras.4.weight', 'extras.4.bias', 'extras.5.weight', 'extras.5.bias', 'extras.6.weight', 'extras.6.bias', 'extras.7.weight', 'extras.7.bias', 'loc.0.weight', 'loc.0.bias', 'loc.1.weight', 'loc.1.bias', 'loc.2.weight', 'loc.2.bias', 'loc.3.weight', 'loc.3.bias', 'loc.4.weight', 'loc.4.bias', 'loc.5.weight', 'loc.5.bias', 'conf.0.weight', 'conf.0.bias', 'conf.1.weight', 'conf.1.bias', 'conf.2.weight', 'conf.2.bias', 'conf.3.weight', 'conf.3.bias', 'conf.4.weight', 'conf.4.bias', 'conf.5.weight', 'conf.5.bias', 'vgg_controllers.0.0.weight', 'vgg_controllers.0.0.bias', 'vgg_controllers.2.0.weight', 'vgg_controllers.2.0.bias', 'vgg_controllers.5.0.weight', 'vgg_controllers.5.0.bias', 'vgg_controllers.7.0.weight', 'vgg_controllers.7.0.bias', 'vgg_controllers.10.0.weight', 'vgg_controllers.10.0.bias', 'vgg_controllers.12.0.weight', 'vgg_controllers.12.0.bias', 'vgg_controllers.14.0.weight', 'vgg_controllers.14.0.bias', 'vgg_controllers.17.0.weight', 'vgg_controllers.17.0.bias', 'vgg_controllers.19.0.weight', 'vgg_controllers.19.0.bias', 'vgg_controllers.21.0.weight', 'vgg_controllers.21.0.bias', 'vgg_controllers.24.0.weight', 'vgg_controllers.24.0.bias', 'vgg_controllers.26.0.weight', 'vgg_controllers.26.0.bias', 'vgg_controllers.28.0.weight', 'vgg_controllers.28.0.bias', 'vgg_controllers.31.0.weight', 'vgg_controllers.31.0.bias', 'vgg_controllers.33.0.weight', 'vgg_controllers.33.0.bias', 'extra_controllers.0.0.weight', 'extra_controllers.0.0.bias', 'extra_controllers.1.0.weight', 'extra_controllers.1.0.bias', 'extra_controllers.2.0.weight', 'extra_controllers.2.0.bias', 'extra_controllers.3.0.weight', 'extra_controllers.3.0.bias', 'extra_controllers.4.0.weight', 'extra_controllers.4.0.bias', 'extra_controllers.5.0.weight', 'extra_controllers.5.0.bias', 'extra_controllers.6.0.weight', 'extra_controllers.6.0.bias', 'extra_controllers.7.0.weight', 'extra_controllers.7.0.bias', 'loc_controllers.0.0.weight', 'loc_controllers.0.0.bias', 'loc_controllers.1.0.weight', 'loc_controllers.1.0.bias', 'loc_controllers.2.0.weight', 'loc_controllers.2.0.bias', 'loc_controllers.3.0.weight', 'loc_controllers.3.0.bias', 'loc_controllers.4.0.weight', 'loc_controllers.4.0.bias', 'loc_controllers.5.0.weight', 'loc_controllers.5.0.bias', 'conf_controllers.0.0.weight', 'conf_controllers.0.0.bias', 'conf_controllers.1.0.weight', 'conf_controllers.1.0.bias', 'conf_controllers.2.0.weight', 'conf_controllers.2.0.bias', 'conf_controllers.3.0.weight', 'conf_controllers.3.0.bias', 'conf_controllers.4.0.weight', 'conf_controllers.4.0.bias', 'conf_controllers.5.0.weight', 'conf_controllers.5.0.bias'])"
      ]
     },
     "execution_count": 4,
     "metadata": {},
     "output_type": "execute_result"
    }
   ],
   "source": [
    "net.state_dict().keys()"
   ]
  },
  {
   "cell_type": "code",
   "execution_count": 25,
   "metadata": {
    "collapsed": false
   },
   "outputs": [
    {
     "data": {
      "text/plain": [
       "odict_keys(['vgg.0.weight', 'vgg.0.bias', 'vgg.2.weight', 'vgg.2.bias', 'vgg.5.weight', 'vgg.5.bias', 'vgg.7.weight', 'vgg.7.bias', 'vgg.10.weight', 'vgg.10.bias', 'vgg.12.weight', 'vgg.12.bias', 'vgg.14.weight', 'vgg.14.bias', 'vgg.17.weight', 'vgg.17.bias', 'vgg.19.weight', 'vgg.19.bias', 'vgg.21.weight', 'vgg.21.bias', 'vgg.24.weight', 'vgg.24.bias', 'vgg.26.weight', 'vgg.26.bias', 'vgg.28.weight', 'vgg.28.bias', 'vgg.31.weight', 'vgg.31.bias', 'vgg.33.weight', 'vgg.33.bias', 'L2Norm.weight', 'extras.0.weight', 'extras.0.bias', 'extras.1.weight', 'extras.1.bias', 'extras.2.weight', 'extras.2.bias', 'extras.3.weight', 'extras.3.bias', 'extras.4.weight', 'extras.4.bias', 'extras.5.weight', 'extras.5.bias', 'extras.6.weight', 'extras.6.bias', 'extras.7.weight', 'extras.7.bias', 'loc.0.weight', 'loc.0.bias', 'loc.1.weight', 'loc.1.bias', 'loc.2.weight', 'loc.2.bias', 'loc.3.weight', 'loc.3.bias', 'loc.4.weight', 'loc.4.bias', 'loc.5.weight', 'loc.5.bias', 'conf.0.weight', 'conf.0.bias', 'conf.1.weight', 'conf.1.bias', 'conf.2.weight', 'conf.2.bias', 'conf.3.weight', 'conf.3.bias', 'conf.4.weight', 'conf.4.bias', 'conf.5.weight', 'conf.5.bias', 'vgg_controllers.0.0.weight', 'vgg_controllers.2.0.weight', 'vgg_controllers.5.0.weight', 'vgg_controllers.7.0.weight', 'vgg_controllers.10.0.weight', 'vgg_controllers.12.0.weight', 'vgg_controllers.14.0.weight', 'vgg_controllers.17.0.weight', 'vgg_controllers.19.0.weight', 'vgg_controllers.21.0.weight', 'vgg_controllers.24.0.weight', 'vgg_controllers.26.0.weight', 'vgg_controllers.28.0.weight', 'vgg_controllers.31.0.weight', 'vgg_controllers.33.0.weight', 'extra_controllers.0.0.weight', 'extra_controllers.1.0.weight', 'extra_controllers.2.0.weight', 'extra_controllers.3.0.weight', 'extra_controllers.4.0.weight', 'extra_controllers.5.0.weight', 'extra_controllers.6.0.weight', 'extra_controllers.7.0.weight', 'loc_controllers.0.0.weight', 'loc_controllers.1.0.weight', 'loc_controllers.2.0.weight', 'loc_controllers.3.0.weight', 'loc_controllers.4.0.weight', 'loc_controllers.5.0.weight', 'conf_controllers.0.0.weight', 'conf_controllers.1.0.weight', 'conf_controllers.2.0.weight', 'conf_controllers.3.0.weight', 'conf_controllers.4.0.weight', 'conf_controllers.5.0.weight'])"
      ]
     },
     "execution_count": 25,
     "metadata": {},
     "output_type": "execute_result"
    }
   ],
   "source": [
    "a = torch.load('/home/amir/priming_weights/ssd300_0712_115000.pth2')\n",
    "a.keys()"
   ]
  },
  {
   "cell_type": "code",
   "execution_count": 4,
   "metadata": {
    "collapsed": false
   },
   "outputs": [
    {
     "data": {
      "text/plain": [
       "106"
      ]
     },
     "execution_count": 4,
     "metadata": {},
     "output_type": "execute_result"
    }
   ],
   "source": [
    "#a = torch.load('/home/amir/priming_weights/ssd300_0712_115000.pth2')\n",
    "use_bias=False\n",
    "net2 = build_ssd('test', 300, 21,controller_bias=use_bias,insertBNLayers=False)    # initialize SSD\n",
    "len(net2.state_dict().keys())"
   ]
  },
  {
   "cell_type": "code",
   "execution_count": 5,
   "metadata": {
    "collapsed": true
   },
   "outputs": [
    {
     "ename": "AttributeError",
     "evalue": "'Sequential' object has no attribute 'paremeters'",
     "output_type": "error",
     "traceback": [
      "\u001b[0;31m---------------------------------------------------------------------------\u001b[0m",
      "\u001b[0;31mAttributeError\u001b[0m                            Traceback (most recent call last)",
      "\u001b[0;32m<ipython-input-5-9e6bf8a07f75>\u001b[0m in \u001b[0;36m<module>\u001b[0;34m()\u001b[0m\n\u001b[0;32m----> 1\u001b[0;31m \u001b[0mnet2\u001b[0m\u001b[0;34m.\u001b[0m\u001b[0mvgg_controllers\u001b[0m\u001b[0;34m[\u001b[0m\u001b[0;36m1\u001b[0m\u001b[0;34m]\u001b[0m\u001b[0;34m.\u001b[0m\u001b[0mparemeters\u001b[0m\u001b[0;34m(\u001b[0m\u001b[0;34m)\u001b[0m\u001b[0;34m\u001b[0m\u001b[0m\n\u001b[0m",
      "\u001b[0;32m~/anaconda3/envs/pt3/lib/python3.5/site-packages/torch/nn/modules/module.py\u001b[0m in \u001b[0;36m__getattr__\u001b[0;34m(self, name)\u001b[0m\n\u001b[1;32m    260\u001b[0m                 \u001b[0;32mreturn\u001b[0m \u001b[0mmodules\u001b[0m\u001b[0;34m[\u001b[0m\u001b[0mname\u001b[0m\u001b[0;34m]\u001b[0m\u001b[0;34m\u001b[0m\u001b[0m\n\u001b[1;32m    261\u001b[0m         raise AttributeError(\"'{}' object has no attribute '{}'\".format(\n\u001b[0;32m--> 262\u001b[0;31m             type(self).__name__, name))\n\u001b[0m\u001b[1;32m    263\u001b[0m \u001b[0;34m\u001b[0m\u001b[0m\n\u001b[1;32m    264\u001b[0m     \u001b[0;32mdef\u001b[0m \u001b[0m__setattr__\u001b[0m\u001b[0;34m(\u001b[0m\u001b[0mself\u001b[0m\u001b[0;34m,\u001b[0m \u001b[0mname\u001b[0m\u001b[0;34m,\u001b[0m \u001b[0mvalue\u001b[0m\u001b[0;34m)\u001b[0m\u001b[0;34m:\u001b[0m\u001b[0;34m\u001b[0m\u001b[0m\n",
      "\u001b[0;31mAttributeError\u001b[0m: 'Sequential' object has no attribute 'paremeters'"
     ]
    }
   ],
   "source": [
    "net2.vgg_controllers[1].paremeters()"
   ]
  },
  {
   "cell_type": "code",
   "execution_count": 6,
   "metadata": {
    "collapsed": true
   },
   "outputs": [
    {
     "data": {
      "text/plain": [
       "Parameter containing:\n",
       "(0 ,0 ,.,.) = \n",
       " -6.4419e-02  1.3199e-01 -9.5987e-02\n",
       "  1.1506e-01 -1.2137e-01 -1.7454e-01\n",
       " -5.8051e-02  1.4071e-01  5.9120e-02\n",
       "\n",
       "(0 ,1 ,.,.) = \n",
       " -9.1378e-02 -1.9471e-02 -1.4744e-01\n",
       "  7.1418e-02 -4.8719e-02  3.5808e-02\n",
       " -3.1298e-02  1.0918e-01 -1.7554e-01\n",
       "\n",
       "(0 ,2 ,.,.) = \n",
       " -5.9648e-02  1.2895e-01 -2.1888e-03\n",
       "  1.2471e-01 -9.7702e-04  6.9995e-02\n",
       " -1.1204e-02  5.5396e-03  1.5344e-01\n",
       "     ⋮ \n",
       "\n",
       "(1 ,0 ,.,.) = \n",
       "  1.1098e-01 -1.8034e-01  3.9124e-02\n",
       " -1.8943e-01 -1.2171e-01  8.6068e-02\n",
       "  5.0353e-02  1.8100e-01 -1.9671e-02\n",
       "\n",
       "(1 ,1 ,.,.) = \n",
       " -2.6658e-02  3.2009e-02 -1.3044e-01\n",
       " -9.9157e-02  4.0483e-02 -2.2748e-02\n",
       "  1.3328e-01  1.2536e-02  1.7703e-01\n",
       "\n",
       "(1 ,2 ,.,.) = \n",
       " -1.7985e-01 -5.1887e-02  1.1167e-01\n",
       "  1.2292e-02  7.2754e-02 -4.1255e-02\n",
       " -7.9292e-02 -5.2984e-02  1.3025e-02\n",
       "     ⋮ \n",
       "\n",
       "(2 ,0 ,.,.) = \n",
       " -1.6440e-01  1.0717e-01 -1.7709e-01\n",
       " -6.6717e-02 -1.6488e-01  1.3215e-02\n",
       " -2.7980e-02 -9.0466e-02  9.7162e-02\n",
       "\n",
       "(2 ,1 ,.,.) = \n",
       "  1.5558e-01  1.1414e-01  9.0750e-02\n",
       "  6.1250e-02  1.0729e-01  1.2115e-01\n",
       " -7.6925e-02  9.7567e-02 -3.5190e-02\n",
       "\n",
       "(2 ,2 ,.,.) = \n",
       "  1.0236e-01 -5.2113e-02 -1.6397e-01\n",
       "  4.6378e-02 -9.2269e-02  1.0518e-01\n",
       "  4.7776e-02  7.8041e-02 -1.3082e-02\n",
       "...   \n",
       "     ⋮ \n",
       "\n",
       "(61,0 ,.,.) = \n",
       "  1.4610e-01 -1.9824e-03  1.7741e-01\n",
       "  1.2539e-01 -1.5744e-01 -1.8491e-01\n",
       " -3.5613e-02  1.8238e-02  1.5995e-01\n",
       "\n",
       "(61,1 ,.,.) = \n",
       "  3.1251e-02 -9.6427e-02 -6.8419e-02\n",
       "  1.4367e-02  1.4562e-01  5.0206e-02\n",
       " -5.3779e-02  1.1321e-01  1.8287e-01\n",
       "\n",
       "(61,2 ,.,.) = \n",
       " -3.5527e-02 -1.9768e-02 -3.1668e-02\n",
       "  2.5438e-02 -9.3152e-03  9.6083e-03\n",
       "  1.4254e-01  1.8430e-01  6.4981e-02\n",
       "     ⋮ \n",
       "\n",
       "(62,0 ,.,.) = \n",
       "  6.4678e-02 -1.1156e-01 -2.8426e-02\n",
       "  5.5293e-02 -2.2890e-02 -4.7509e-02\n",
       "  9.0509e-02  1.1676e-01  5.0581e-02\n",
       "\n",
       "(62,1 ,.,.) = \n",
       "  1.4225e-01 -1.1190e-01 -1.1672e-01\n",
       " -5.0132e-02 -1.8422e-01 -1.8824e-01\n",
       "  1.3346e-02  7.7298e-02 -9.0142e-02\n",
       "\n",
       "(62,2 ,.,.) = \n",
       " -1.1422e-02  1.6855e-01  9.7297e-02\n",
       "  1.2065e-01 -1.3092e-01 -1.8063e-01\n",
       " -2.4330e-02  1.6179e-01 -1.5984e-01\n",
       "     ⋮ \n",
       "\n",
       "(63,0 ,.,.) = \n",
       " -1.8736e-01 -1.3047e-01  4.3982e-02\n",
       " -1.5816e-01 -1.2239e-01  1.8960e-01\n",
       "  5.5080e-02 -1.3185e-01 -9.2898e-02\n",
       "\n",
       "(63,1 ,.,.) = \n",
       " -3.2017e-03 -6.3686e-02  9.1448e-02\n",
       "  1.2674e-01  9.8001e-02 -2.3229e-02\n",
       " -1.1858e-01  1.5831e-02 -1.8847e-01\n",
       "\n",
       "(63,2 ,.,.) = \n",
       "  2.3917e-02  1.2108e-01 -1.1858e-01\n",
       "  1.0261e-01  1.9107e-01 -1.2387e-01\n",
       " -6.7397e-02 -7.7018e-03  8.8126e-03\n",
       "[torch.cuda.FloatTensor of size 64x3x3x3 (GPU 0)]"
      ]
     },
     "execution_count": 6,
     "metadata": {},
     "output_type": "execute_result"
    }
   ],
   "source": [
    "list(net2.parameters())[0]"
   ]
  },
  {
   "cell_type": "code",
   "execution_count": 3,
   "metadata": {
    "collapsed": false
   },
   "outputs": [
    {
     "ename": "TypeError",
     "evalue": "build_ssd() got an unexpected keyword argument 'controllerBias'",
     "output_type": "error",
     "traceback": [
      "\u001b[0;31m---------------------------------------------------------------------------\u001b[0m",
      "\u001b[0;31mTypeError\u001b[0m                                 Traceback (most recent call last)",
      "\u001b[0;32m<ipython-input-3-a64467fd2901>\u001b[0m in \u001b[0;36m<module>\u001b[0;34m()\u001b[0m\n\u001b[1;32m      1\u001b[0m \u001b[0;31m# add extra dictionary values to ssd trained without priming to make it compatible.\u001b[0m\u001b[0;34m\u001b[0m\u001b[0;34m\u001b[0m\u001b[0m\n\u001b[1;32m      2\u001b[0m \u001b[0muse_bias\u001b[0m\u001b[0;34m=\u001b[0m\u001b[0;32mTrue\u001b[0m\u001b[0;34m\u001b[0m\u001b[0m\n\u001b[0;32m----> 3\u001b[0;31m \u001b[0mnet2\u001b[0m \u001b[0;34m=\u001b[0m \u001b[0mbuild_ssd\u001b[0m\u001b[0;34m(\u001b[0m\u001b[0;34m'test'\u001b[0m\u001b[0;34m,\u001b[0m \u001b[0;36m300\u001b[0m\u001b[0;34m,\u001b[0m \u001b[0;36m21\u001b[0m\u001b[0;34m,\u001b[0m\u001b[0mcontrollerBias\u001b[0m\u001b[0;34m=\u001b[0m\u001b[0muse_bias\u001b[0m\u001b[0;34m,\u001b[0m\u001b[0minsertBNLayers\u001b[0m\u001b[0;34m=\u001b[0m\u001b[0;32mFalse\u001b[0m\u001b[0;34m)\u001b[0m    \u001b[0;31m# initialize SSD\u001b[0m\u001b[0;34m\u001b[0m\u001b[0m\n\u001b[0m\u001b[1;32m      4\u001b[0m \u001b[0mnet2\u001b[0m\u001b[0;34m.\u001b[0m\u001b[0mstate_dict\u001b[0m\u001b[0;34m(\u001b[0m\u001b[0;34m)\u001b[0m\u001b[0;34m.\u001b[0m\u001b[0mkeys\u001b[0m\u001b[0;34m(\u001b[0m\u001b[0;34m)\u001b[0m\u001b[0;34m\u001b[0m\u001b[0m\n",
      "\u001b[0;31mTypeError\u001b[0m: build_ssd() got an unexpected keyword argument 'controllerBias'"
     ]
    }
   ],
   "source": [
    "# add extra dictionary values to ssd trained without priming to make it compatible.\n",
    "use_bias=True\n",
    "net2 = build_ssd('test', 300, 21,controllerBias=use_bias,insertBNLayers=False)    # initialize SSD\n",
    "net2.state_dict().keys()"
   ]
  },
  {
   "cell_type": "code",
   "execution_count": 5,
   "metadata": {
    "collapsed": false
   },
   "outputs": [
    {
     "name": "stdout",
     "output_type": "stream",
     "text": [
      "Loading weights into state dict...\n",
      "Finished!\n"
     ]
    }
   ],
   "source": [
    "use_bias=True\n",
    "\n",
    "oldNetPath = '/home/amir/priming_weights/ssd300_0712_115000.pth'\n",
    "if use_bias:\n",
    "    newNetPath = oldNetPath+'_bias'\n",
    "newNetPath\n",
    "\n",
    "# Insert into the new model's convolutions the old model's convolutions.\n",
    "orig_model = build_ssd('test', 300, 21,controllerBias=use_bias,insertBNLayers=False)\n",
    "orig_model.load_weights(newNetPath)\n",
    "bn_net_path = newNetPath+'_bn'"
   ]
  },
  {
   "cell_type": "code",
   "execution_count": null,
   "metadata": {
    "collapsed": true
   },
   "outputs": [],
   "source": []
  },
  {
   "cell_type": "code",
   "execution_count": 6,
   "metadata": {
    "collapsed": true
   },
   "outputs": [
    {
     "name": "stdout",
     "output_type": "stream",
     "text": [
      "found old conv at 0\n",
      "found new conv at 0\n",
      "found old conv at 2\n",
      "found new conv at 3\n",
      "found old conv at 5\n",
      "found new conv at 7\n",
      "found old conv at 7\n",
      "found new conv at 10\n",
      "found old conv at 10\n",
      "found new conv at 14\n",
      "found old conv at 12\n",
      "found new conv at 17\n",
      "found old conv at 14\n",
      "found new conv at 20\n",
      "found old conv at 17\n",
      "found new conv at 24\n",
      "found old conv at 19\n",
      "found new conv at 27\n",
      "found old conv at 21\n",
      "found new conv at 30\n",
      "found old conv at 24\n",
      "found new conv at 34\n",
      "found old conv at 26\n",
      "found new conv at 37\n",
      "found old conv at 28\n",
      "found new conv at 40\n",
      "found old conv at 31\n",
      "found new conv at 44\n",
      "found old conv at 33\n",
      "found new conv at 46\n"
     ]
    }
   ],
   "source": [
    "model_with_bn = build_ssd('test', 300, 21,controllerBias=use_bias,insertBNLayers=True)\n",
    "vgg_old = orig_model.vgg\n",
    "vgg_new = model_with_bn.vgg\n",
    "i_new = 0\n",
    "for i,v in enumerate(vgg_old):\n",
    "    if type(v) is nn.Conv2d:\n",
    "        print('found old conv at',i)\n",
    "        # find next convolution in new model.\n",
    "        while type(vgg_new[i_new]) is not nn.Conv2d:\n",
    "            i_new+=1\n",
    "        assert type(vgg_new[i_new]) is nn.Conv2d\n",
    "        print('found new conv at',i_new)\n",
    "        # copy over the old weights to the new convolution's weights.\n",
    "        v_new = vgg_new[i_new]\n",
    "        v_new.weight.data = v.weight.data\n",
    "        v_new.bias.data = v.bias.data\n",
    "        i_new+=1\n",
    "        \n",
    "torch.save(model_with_bn.state_dict(),bn_net_path)\n",
    "\n"
   ]
  },
  {
   "cell_type": "code",
   "execution_count": 27,
   "metadata": {
    "collapsed": true
   },
   "outputs": [],
   "source": [
    "model_with_bn.cuda();"
   ]
  },
  {
   "cell_type": "code",
   "execution_count": 30,
   "metadata": {
    "collapsed": false
   },
   "outputs": [
    {
     "name": "stdout",
     "output_type": "stream",
     "text": [
      "0 1 2 3 4 5 6 7 8 9 10 11 12 13 14 15 16 17 18 19 20 21 22 23 24 25 26 27 28 29 30 31 32 33 34 35 36 37 38 39 40 41 42 43 44 45 46 47 "
     ]
    }
   ],
   "source": [
    "v = Variable(torch.zeros(1,3,300,300))\n",
    "for i,L in enumerate(model_with_bn.vgg):\n",
    "    print(i, end=\" \")\n",
    "    v = L(v)"
   ]
  },
  {
   "cell_type": "code",
   "execution_count": 24,
   "metadata": {
    "collapsed": true
   },
   "outputs": [
    {
     "ename": "RuntimeError",
     "evalue": "The expanded size of the tensor (256) must match the existing size (512) at non-singleton dimension 1. at /opt/conda/conda-bld/pytorch_1503968623488/work/torch/lib/TH/generic/THTensor.c:308",
     "output_type": "error",
     "traceback": [
      "\u001b[0;31m---------------------------------------------------------------------------\u001b[0m",
      "\u001b[0;31mRuntimeError\u001b[0m                              Traceback (most recent call last)",
      "\u001b[0;32m<ipython-input-24-dfe751e24085>\u001b[0m in \u001b[0;36m<module>\u001b[0;34m()\u001b[0m\n\u001b[1;32m      1\u001b[0m \u001b[0;31m#model_with_bn.cpu();\u001b[0m\u001b[0;34m\u001b[0m\u001b[0;34m\u001b[0m\u001b[0m\n\u001b[0;32m----> 2\u001b[0;31m \u001b[0mmodel_with_bn\u001b[0m\u001b[0;34m(\u001b[0m\u001b[0mVariable\u001b[0m\u001b[0;34m(\u001b[0m\u001b[0mtorch\u001b[0m\u001b[0;34m.\u001b[0m\u001b[0mzeros\u001b[0m\u001b[0;34m(\u001b[0m\u001b[0;36m1\u001b[0m\u001b[0;34m,\u001b[0m\u001b[0;36m3\u001b[0m\u001b[0;34m,\u001b[0m\u001b[0;36m300\u001b[0m\u001b[0;34m,\u001b[0m\u001b[0;36m300\u001b[0m\u001b[0;34m)\u001b[0m\u001b[0;34m.\u001b[0m\u001b[0mcpu\u001b[0m\u001b[0;34m(\u001b[0m\u001b[0;34m)\u001b[0m\u001b[0;34m)\u001b[0m\u001b[0;34m)\u001b[0m\u001b[0;34m\u001b[0m\u001b[0m\n\u001b[0m",
      "\u001b[0;32m~/anaconda3/envs/pt3/lib/python3.5/site-packages/torch/nn/modules/module.py\u001b[0m in \u001b[0;36m__call__\u001b[0;34m(self, *input, **kwargs)\u001b[0m\n\u001b[1;32m    222\u001b[0m         \u001b[0;32mfor\u001b[0m \u001b[0mhook\u001b[0m \u001b[0;32min\u001b[0m \u001b[0mself\u001b[0m\u001b[0;34m.\u001b[0m\u001b[0m_forward_pre_hooks\u001b[0m\u001b[0;34m.\u001b[0m\u001b[0mvalues\u001b[0m\u001b[0;34m(\u001b[0m\u001b[0;34m)\u001b[0m\u001b[0;34m:\u001b[0m\u001b[0;34m\u001b[0m\u001b[0m\n\u001b[1;32m    223\u001b[0m             \u001b[0mhook\u001b[0m\u001b[0;34m(\u001b[0m\u001b[0mself\u001b[0m\u001b[0;34m,\u001b[0m \u001b[0minput\u001b[0m\u001b[0;34m)\u001b[0m\u001b[0;34m\u001b[0m\u001b[0m\n\u001b[0;32m--> 224\u001b[0;31m         \u001b[0mresult\u001b[0m \u001b[0;34m=\u001b[0m \u001b[0mself\u001b[0m\u001b[0;34m.\u001b[0m\u001b[0mforward\u001b[0m\u001b[0;34m(\u001b[0m\u001b[0;34m*\u001b[0m\u001b[0minput\u001b[0m\u001b[0;34m,\u001b[0m \u001b[0;34m**\u001b[0m\u001b[0mkwargs\u001b[0m\u001b[0;34m)\u001b[0m\u001b[0;34m\u001b[0m\u001b[0m\n\u001b[0m\u001b[1;32m    225\u001b[0m         \u001b[0;32mfor\u001b[0m \u001b[0mhook\u001b[0m \u001b[0;32min\u001b[0m \u001b[0mself\u001b[0m\u001b[0;34m.\u001b[0m\u001b[0m_forward_hooks\u001b[0m\u001b[0;34m.\u001b[0m\u001b[0mvalues\u001b[0m\u001b[0;34m(\u001b[0m\u001b[0;34m)\u001b[0m\u001b[0;34m:\u001b[0m\u001b[0;34m\u001b[0m\u001b[0m\n\u001b[1;32m    226\u001b[0m             \u001b[0mhook_result\u001b[0m \u001b[0;34m=\u001b[0m \u001b[0mhook\u001b[0m\u001b[0;34m(\u001b[0m\u001b[0mself\u001b[0m\u001b[0;34m,\u001b[0m \u001b[0minput\u001b[0m\u001b[0;34m,\u001b[0m \u001b[0mresult\u001b[0m\u001b[0;34m)\u001b[0m\u001b[0;34m\u001b[0m\u001b[0m\n",
      "\u001b[0;32m~/Dropbox/code/ssd.pytorch_primed/ssd.py\u001b[0m in \u001b[0;36mforward\u001b[0;34m(self, x, hint, hint_override_vgg, extra_ovr, loc_ovr, conf_ovr)\u001b[0m\n\u001b[1;32m    229\u001b[0m             \u001b[0mx\u001b[0m \u001b[0;34m=\u001b[0m \u001b[0mself\u001b[0m\u001b[0;34m.\u001b[0m\u001b[0mapplyController\u001b[0m\u001b[0;34m(\u001b[0m\u001b[0mx\u001b[0m\u001b[0;34m,\u001b[0m \u001b[0mhint\u001b[0m\u001b[0;34m,\u001b[0m \u001b[0mself\u001b[0m\u001b[0;34m.\u001b[0m\u001b[0mvgg_controllers\u001b[0m\u001b[0;34m[\u001b[0m\u001b[0mk\u001b[0m\u001b[0;34m]\u001b[0m\u001b[0;34m,\u001b[0m \u001b[0mhint_override_vgg\u001b[0m\u001b[0;34m[\u001b[0m\u001b[0mk\u001b[0m\u001b[0;34m]\u001b[0m\u001b[0;34m)\u001b[0m\u001b[0;34m\u001b[0m\u001b[0m\n\u001b[1;32m    230\u001b[0m \u001b[0;34m\u001b[0m\u001b[0m\n\u001b[0;32m--> 231\u001b[0;31m         \u001b[0ms\u001b[0m \u001b[0;34m=\u001b[0m \u001b[0mself\u001b[0m\u001b[0;34m.\u001b[0m\u001b[0mL2Norm\u001b[0m\u001b[0;34m(\u001b[0m\u001b[0mx\u001b[0m\u001b[0;34m)\u001b[0m\u001b[0;34m\u001b[0m\u001b[0m\n\u001b[0m\u001b[1;32m    232\u001b[0m         \u001b[0msources\u001b[0m\u001b[0;34m.\u001b[0m\u001b[0mappend\u001b[0m\u001b[0;34m(\u001b[0m\u001b[0ms\u001b[0m\u001b[0;34m)\u001b[0m\u001b[0;34m\u001b[0m\u001b[0m\n\u001b[1;32m    233\u001b[0m \u001b[0;34m\u001b[0m\u001b[0m\n",
      "\u001b[0;32m~/anaconda3/envs/pt3/lib/python3.5/site-packages/torch/nn/modules/module.py\u001b[0m in \u001b[0;36m__call__\u001b[0;34m(self, *input, **kwargs)\u001b[0m\n\u001b[1;32m    222\u001b[0m         \u001b[0;32mfor\u001b[0m \u001b[0mhook\u001b[0m \u001b[0;32min\u001b[0m \u001b[0mself\u001b[0m\u001b[0;34m.\u001b[0m\u001b[0m_forward_pre_hooks\u001b[0m\u001b[0;34m.\u001b[0m\u001b[0mvalues\u001b[0m\u001b[0;34m(\u001b[0m\u001b[0;34m)\u001b[0m\u001b[0;34m:\u001b[0m\u001b[0;34m\u001b[0m\u001b[0m\n\u001b[1;32m    223\u001b[0m             \u001b[0mhook\u001b[0m\u001b[0;34m(\u001b[0m\u001b[0mself\u001b[0m\u001b[0;34m,\u001b[0m \u001b[0minput\u001b[0m\u001b[0;34m)\u001b[0m\u001b[0;34m\u001b[0m\u001b[0m\n\u001b[0;32m--> 224\u001b[0;31m         \u001b[0mresult\u001b[0m \u001b[0;34m=\u001b[0m \u001b[0mself\u001b[0m\u001b[0;34m.\u001b[0m\u001b[0mforward\u001b[0m\u001b[0;34m(\u001b[0m\u001b[0;34m*\u001b[0m\u001b[0minput\u001b[0m\u001b[0;34m,\u001b[0m \u001b[0;34m**\u001b[0m\u001b[0mkwargs\u001b[0m\u001b[0;34m)\u001b[0m\u001b[0;34m\u001b[0m\u001b[0m\n\u001b[0m\u001b[1;32m    225\u001b[0m         \u001b[0;32mfor\u001b[0m \u001b[0mhook\u001b[0m \u001b[0;32min\u001b[0m \u001b[0mself\u001b[0m\u001b[0;34m.\u001b[0m\u001b[0m_forward_hooks\u001b[0m\u001b[0;34m.\u001b[0m\u001b[0mvalues\u001b[0m\u001b[0;34m(\u001b[0m\u001b[0;34m)\u001b[0m\u001b[0;34m:\u001b[0m\u001b[0;34m\u001b[0m\u001b[0m\n\u001b[1;32m    226\u001b[0m             \u001b[0mhook_result\u001b[0m \u001b[0;34m=\u001b[0m \u001b[0mhook\u001b[0m\u001b[0;34m(\u001b[0m\u001b[0mself\u001b[0m\u001b[0;34m,\u001b[0m \u001b[0minput\u001b[0m\u001b[0;34m,\u001b[0m \u001b[0mresult\u001b[0m\u001b[0;34m)\u001b[0m\u001b[0;34m\u001b[0m\u001b[0m\n",
      "\u001b[0;32m~/Dropbox/code/ssd.pytorch_primed/layers/modules/l2norm.py\u001b[0m in \u001b[0;36mforward\u001b[0;34m(self, x)\u001b[0m\n\u001b[1;32m     20\u001b[0m         \u001b[0mnorm\u001b[0m \u001b[0;34m=\u001b[0m \u001b[0mx\u001b[0m\u001b[0;34m.\u001b[0m\u001b[0mpow\u001b[0m\u001b[0;34m(\u001b[0m\u001b[0;36m2\u001b[0m\u001b[0;34m)\u001b[0m\u001b[0;34m.\u001b[0m\u001b[0msum\u001b[0m\u001b[0;34m(\u001b[0m\u001b[0mdim\u001b[0m\u001b[0;34m=\u001b[0m\u001b[0;36m1\u001b[0m\u001b[0;34m,\u001b[0m \u001b[0mkeepdim\u001b[0m\u001b[0;34m=\u001b[0m\u001b[0;32mTrue\u001b[0m\u001b[0;34m)\u001b[0m\u001b[0;34m.\u001b[0m\u001b[0msqrt\u001b[0m\u001b[0;34m(\u001b[0m\u001b[0;34m)\u001b[0m\u001b[0;34m+\u001b[0m\u001b[0mself\u001b[0m\u001b[0;34m.\u001b[0m\u001b[0meps\u001b[0m\u001b[0;34m\u001b[0m\u001b[0m\n\u001b[1;32m     21\u001b[0m         \u001b[0mx\u001b[0m \u001b[0;34m/=\u001b[0m \u001b[0mnorm\u001b[0m\u001b[0;34m\u001b[0m\u001b[0m\n\u001b[0;32m---> 22\u001b[0;31m         \u001b[0mout\u001b[0m \u001b[0;34m=\u001b[0m \u001b[0mself\u001b[0m\u001b[0;34m.\u001b[0m\u001b[0mweight\u001b[0m\u001b[0;34m.\u001b[0m\u001b[0munsqueeze\u001b[0m\u001b[0;34m(\u001b[0m\u001b[0;36m0\u001b[0m\u001b[0;34m)\u001b[0m\u001b[0;34m.\u001b[0m\u001b[0munsqueeze\u001b[0m\u001b[0;34m(\u001b[0m\u001b[0;36m2\u001b[0m\u001b[0;34m)\u001b[0m\u001b[0;34m.\u001b[0m\u001b[0munsqueeze\u001b[0m\u001b[0;34m(\u001b[0m\u001b[0;36m3\u001b[0m\u001b[0;34m)\u001b[0m\u001b[0;34m.\u001b[0m\u001b[0mexpand_as\u001b[0m\u001b[0;34m(\u001b[0m\u001b[0mx\u001b[0m\u001b[0;34m)\u001b[0m \u001b[0;34m*\u001b[0m \u001b[0mx\u001b[0m\u001b[0;34m\u001b[0m\u001b[0m\n\u001b[0m\u001b[1;32m     23\u001b[0m         \u001b[0;32mreturn\u001b[0m \u001b[0mout\u001b[0m\u001b[0;34m\u001b[0m\u001b[0m\n",
      "\u001b[0;32m~/anaconda3/envs/pt3/lib/python3.5/site-packages/torch/autograd/variable.py\u001b[0m in \u001b[0;36mexpand_as\u001b[0;34m(self, tensor)\u001b[0m\n\u001b[1;32m    723\u001b[0m \u001b[0;34m\u001b[0m\u001b[0m\n\u001b[1;32m    724\u001b[0m     \u001b[0;32mdef\u001b[0m \u001b[0mexpand_as\u001b[0m\u001b[0;34m(\u001b[0m\u001b[0mself\u001b[0m\u001b[0;34m,\u001b[0m \u001b[0mtensor\u001b[0m\u001b[0;34m)\u001b[0m\u001b[0;34m:\u001b[0m\u001b[0;34m\u001b[0m\u001b[0m\n\u001b[0;32m--> 725\u001b[0;31m         \u001b[0;32mreturn\u001b[0m \u001b[0mExpand\u001b[0m\u001b[0;34m.\u001b[0m\u001b[0mapply\u001b[0m\u001b[0;34m(\u001b[0m\u001b[0mself\u001b[0m\u001b[0;34m,\u001b[0m \u001b[0;34m(\u001b[0m\u001b[0mtensor\u001b[0m\u001b[0;34m.\u001b[0m\u001b[0msize\u001b[0m\u001b[0;34m(\u001b[0m\u001b[0;34m)\u001b[0m\u001b[0;34m,\u001b[0m\u001b[0;34m)\u001b[0m\u001b[0;34m)\u001b[0m\u001b[0;34m\u001b[0m\u001b[0m\n\u001b[0m\u001b[1;32m    726\u001b[0m \u001b[0;34m\u001b[0m\u001b[0m\n\u001b[1;32m    727\u001b[0m     \u001b[0;32mdef\u001b[0m \u001b[0mt\u001b[0m\u001b[0;34m(\u001b[0m\u001b[0mself\u001b[0m\u001b[0;34m)\u001b[0m\u001b[0;34m:\u001b[0m\u001b[0;34m\u001b[0m\u001b[0m\n",
      "\u001b[0;32m~/anaconda3/envs/pt3/lib/python3.5/site-packages/torch/autograd/_functions/tensor.py\u001b[0m in \u001b[0;36mforward\u001b[0;34m(ctx, i, new_size)\u001b[0m\n\u001b[1;32m    109\u001b[0m     \u001b[0;31m# tuple containing torch.Size or a list\u001b[0m\u001b[0;34m\u001b[0m\u001b[0;34m\u001b[0m\u001b[0m\n\u001b[1;32m    110\u001b[0m     \u001b[0;32mdef\u001b[0m \u001b[0mforward\u001b[0m\u001b[0;34m(\u001b[0m\u001b[0mctx\u001b[0m\u001b[0;34m,\u001b[0m \u001b[0mi\u001b[0m\u001b[0;34m,\u001b[0m \u001b[0mnew_size\u001b[0m\u001b[0;34m)\u001b[0m\u001b[0;34m:\u001b[0m\u001b[0;34m\u001b[0m\u001b[0m\n\u001b[0;32m--> 111\u001b[0;31m         \u001b[0mresult\u001b[0m \u001b[0;34m=\u001b[0m \u001b[0mi\u001b[0m\u001b[0;34m.\u001b[0m\u001b[0mexpand\u001b[0m\u001b[0;34m(\u001b[0m\u001b[0;34m*\u001b[0m\u001b[0mnew_size\u001b[0m\u001b[0;34m)\u001b[0m\u001b[0;34m\u001b[0m\u001b[0m\n\u001b[0m\u001b[1;32m    112\u001b[0m         \u001b[0mctx\u001b[0m\u001b[0;34m.\u001b[0m\u001b[0mnum_unsqueezed\u001b[0m \u001b[0;34m=\u001b[0m \u001b[0mresult\u001b[0m\u001b[0;34m.\u001b[0m\u001b[0mdim\u001b[0m\u001b[0;34m(\u001b[0m\u001b[0;34m)\u001b[0m \u001b[0;34m-\u001b[0m \u001b[0mi\u001b[0m\u001b[0;34m.\u001b[0m\u001b[0mdim\u001b[0m\u001b[0;34m(\u001b[0m\u001b[0;34m)\u001b[0m\u001b[0;34m\u001b[0m\u001b[0m\n\u001b[1;32m    113\u001b[0m         ctx.expanded_dims = [dim for dim, (expanded, original)\n",
      "\u001b[0;31mRuntimeError\u001b[0m: The expanded size of the tensor (256) must match the existing size (512) at non-singleton dimension 1. at /opt/conda/conda-bld/pytorch_1503968623488/work/torch/lib/TH/generic/THTensor.c:308"
     ]
    }
   ],
   "source": [
    "#model_with_bn.cpu();\n",
    "model_with_bn(Variable(torch.zeros(1,3,300,300).cpu()))"
   ]
  },
  {
   "cell_type": "code",
   "execution_count": 15,
   "metadata": {
    "collapsed": false
   },
   "outputs": [],
   "source": [
    "a = torch.load(bn_net_path)"
   ]
  },
  {
   "cell_type": "code",
   "execution_count": null,
   "metadata": {
    "collapsed": true
   },
   "outputs": [],
   "source": []
  },
  {
   "cell_type": "code",
   "execution_count": null,
   "metadata": {
    "collapsed": true
   },
   "outputs": [],
   "source": [
    "# for each bn layer in the new model, make sure it is so in the new "
   ]
  },
  {
   "cell_type": "code",
   "execution_count": 9,
   "metadata": {
    "collapsed": false
   },
   "outputs": [
    {
     "data": {
      "text/plain": [
       "True"
      ]
     },
     "execution_count": 9,
     "metadata": {},
     "output_type": "execute_result"
    }
   ],
   "source": [
    "type(vgg_old[0]) is nn.Conv2d"
   ]
  },
  {
   "cell_type": "code",
   "execution_count": 7,
   "metadata": {
    "collapsed": true
   },
   "outputs": [
    {
     "data": {
      "text/plain": [
       "ModuleList (\n",
       "  (0): Conv2d(3, 64, kernel_size=(3, 3), stride=(1, 1), padding=(1, 1))\n",
       "  (1): BatchNorm2d(64, eps=1e-05, momentum=0.1, affine=True)\n",
       "  (2): ReLU (inplace)\n",
       "  (3): Conv2d(64, 64, kernel_size=(3, 3), stride=(1, 1), padding=(1, 1))\n",
       "  (4): BatchNorm2d(64, eps=1e-05, momentum=0.1, affine=True)\n",
       "  (5): ReLU (inplace)\n",
       "  (6): MaxPool2d (size=(2, 2), stride=(2, 2), dilation=(1, 1))\n",
       "  (7): Conv2d(64, 128, kernel_size=(3, 3), stride=(1, 1), padding=(1, 1))\n",
       "  (8): BatchNorm2d(128, eps=1e-05, momentum=0.1, affine=True)\n",
       "  (9): ReLU (inplace)\n",
       "  (10): Conv2d(128, 128, kernel_size=(3, 3), stride=(1, 1), padding=(1, 1))\n",
       "  (11): BatchNorm2d(128, eps=1e-05, momentum=0.1, affine=True)\n",
       "  (12): ReLU (inplace)\n",
       "  (13): MaxPool2d (size=(2, 2), stride=(2, 2), dilation=(1, 1))\n",
       "  (14): Conv2d(128, 256, kernel_size=(3, 3), stride=(1, 1), padding=(1, 1))\n",
       "  (15): BatchNorm2d(256, eps=1e-05, momentum=0.1, affine=True)\n",
       "  (16): ReLU (inplace)\n",
       "  (17): Conv2d(256, 256, kernel_size=(3, 3), stride=(1, 1), padding=(1, 1))\n",
       "  (18): BatchNorm2d(256, eps=1e-05, momentum=0.1, affine=True)\n",
       "  (19): ReLU (inplace)\n",
       "  (20): Conv2d(256, 256, kernel_size=(3, 3), stride=(1, 1), padding=(1, 1))\n",
       "  (21): BatchNorm2d(256, eps=1e-05, momentum=0.1, affine=True)\n",
       "  (22): ReLU (inplace)\n",
       "  (23): MaxPool2d (size=(2, 2), stride=(2, 2), dilation=(1, 1))\n",
       "  (24): Conv2d(256, 512, kernel_size=(3, 3), stride=(1, 1), padding=(1, 1))\n",
       "  (25): BatchNorm2d(512, eps=1e-05, momentum=0.1, affine=True)\n",
       "  (26): ReLU (inplace)\n",
       "  (27): Conv2d(512, 512, kernel_size=(3, 3), stride=(1, 1), padding=(1, 1))\n",
       "  (28): BatchNorm2d(512, eps=1e-05, momentum=0.1, affine=True)\n",
       "  (29): ReLU (inplace)\n",
       "  (30): Conv2d(512, 512, kernel_size=(3, 3), stride=(1, 1), padding=(1, 1))\n",
       "  (31): BatchNorm2d(512, eps=1e-05, momentum=0.1, affine=True)\n",
       "  (32): ReLU (inplace)\n",
       "  (33): MaxPool2d (size=(2, 2), stride=(2, 2), dilation=(1, 1))\n",
       "  (34): Conv2d(512, 512, kernel_size=(3, 3), stride=(1, 1), padding=(1, 1))\n",
       "  (35): BatchNorm2d(512, eps=1e-05, momentum=0.1, affine=True)\n",
       "  (36): ReLU (inplace)\n",
       "  (37): Conv2d(512, 512, kernel_size=(3, 3), stride=(1, 1), padding=(1, 1))\n",
       "  (38): BatchNorm2d(512, eps=1e-05, momentum=0.1, affine=True)\n",
       "  (39): ReLU (inplace)\n",
       "  (40): Conv2d(512, 512, kernel_size=(3, 3), stride=(1, 1), padding=(1, 1))\n",
       "  (41): BatchNorm2d(512, eps=1e-05, momentum=0.1, affine=True)\n",
       "  (42): ReLU (inplace)\n",
       "  (43): MaxPool2d (size=(3, 3), stride=(1, 1), padding=(1, 1), dilation=(1, 1))\n",
       "  (44): Conv2d(512, 1024, kernel_size=(3, 3), stride=(1, 1), padding=(6, 6), dilation=(6, 6))\n",
       "  (45): ReLU (inplace)\n",
       "  (46): Conv2d(1024, 1024, kernel_size=(1, 1), stride=(1, 1))\n",
       "  (47): ReLU (inplace)\n",
       ")"
      ]
     },
     "execution_count": 7,
     "metadata": {},
     "output_type": "execute_result"
    }
   ],
   "source": [
    "vgg_new"
   ]
  },
  {
   "cell_type": "code",
   "execution_count": 17,
   "metadata": {
    "collapsed": false
   },
   "outputs": [],
   "source": [
    "torch.randn?"
   ]
  },
  {
   "cell_type": "code",
   "execution_count": 8,
   "metadata": {
    "collapsed": false
   },
   "outputs": [
    {
     "data": {
      "text/plain": [
       "True"
      ]
     },
     "execution_count": 8,
     "metadata": {},
     "output_type": "execute_result"
    }
   ],
   "source": [
    "use_bias"
   ]
  },
  {
   "cell_type": "code",
   "execution_count": 8,
   "metadata": {
    "collapsed": false
   },
   "outputs": [
    {
     "data": {
      "text/plain": [
       "torch.Size([256, 1024, 1, 1])"
      ]
     },
     "execution_count": 8,
     "metadata": {},
     "output_type": "execute_result"
    }
   ],
   "source": [
    "oldNetDict['extras.0.weight'].size()"
   ]
  },
  {
   "cell_type": "code",
   "execution_count": null,
   "metadata": {
    "collapsed": true
   },
   "outputs": [],
   "source": []
  },
  {
   "cell_type": "code",
   "execution_count": 3,
   "metadata": {
    "collapsed": true
   },
   "outputs": [],
   "source": [
    "weights = []\n"
   ]
  },
  {
   "cell_type": "code",
   "execution_count": null,
   "metadata": {
    "collapsed": false
   },
   "outputs": [],
   "source": []
  },
  {
   "cell_type": "code",
   "execution_count": 4,
   "metadata": {
    "collapsed": true
   },
   "outputs": [
    {
     "name": "stdout",
     "output_type": "stream",
     "text": [
      "vgg.0.weight 8.60461139678955\n",
      "vgg.0.bias 0.6872081756591797\n",
      "vgg.2.weight 55.37686538696289\n",
      "vgg.2.bias 0.3849204480648041\n",
      "vgg.5.weight 107.65147399902344\n",
      "vgg.5.bias 0.39455482363700867\n",
      "vgg.7.weight 228.0969696044922\n",
      "vgg.7.bias 0.43439847230911255\n",
      "vgg.10.weight 481.6921691894531\n",
      "vgg.10.bias 0.321636825799942\n",
      "vgg.12.weight 775.2205200195312\n",
      "vgg.12.bias 0.37172117829322815\n",
      "vgg.14.weight 838.5341186523438\n",
      "vgg.14.bias 0.3519226610660553\n",
      "vgg.17.weight 1675.6494140625\n",
      "vgg.17.bias 0.47823527455329895\n",
      "vgg.19.weight 2500.5380859375\n",
      "vgg.19.bias 0.4827939569950104\n",
      "vgg.21.weight 2206.387939453125\n",
      "vgg.21.bias 0.6610032320022583\n",
      "vgg.24.weight 1649.9432373046875\n",
      "vgg.24.bias 1.2839046716690063\n",
      "vgg.26.weight 1512.7471923828125\n",
      "vgg.26.bias 1.9655723571777344\n",
      "vgg.28.weight 1117.61181640625\n",
      "vgg.28.bias 2.6219851970672607\n",
      "vgg.31.weight 2328.86767578125\n",
      "vgg.31.bias 3.9665334224700928\n",
      "vgg.33.weight 961.8244018554688\n",
      "vgg.33.bias 12.807076454162598\n",
      "L2Norm.weight 240.99365234375\n",
      "extras.0.weight 249.0183868408203\n",
      "extras.0.bias 0.3091103434562683\n",
      "extras.1.weight 770.7828369140625\n",
      "extras.1.bias 0.45655229687690735\n",
      "extras.2.weight 90.08103942871094\n",
      "extras.2.bias 0.17516735196113586\n",
      "extras.3.weight 282.4871520996094\n",
      "extras.3.bias 0.16010144352912903\n",
      "extras.4.weight 55.262794494628906\n",
      "extras.4.bias 0.0979616791009903\n",
      "extras.5.weight 262.2791442871094\n",
      "extras.5.bias 0.08839722722768784\n",
      "extras.6.weight 55.414249420166016\n",
      "extras.6.bias 0.07505597919225693\n",
      "extras.7.weight 243.4373779296875\n",
      "extras.7.bias 0.04674430191516876\n",
      "loc.0.weight 165.0302276611328\n",
      "loc.0.bias 0.011934995651245117\n",
      "loc.1.weight 214.99232482910156\n",
      "loc.1.bias 0.024293240159749985\n",
      "loc.2.weight 134.79559326171875\n",
      "loc.2.bias 0.04526204988360405\n",
      "loc.3.weight 84.77557373046875\n",
      "loc.3.bias 0.03373459726572037\n",
      "loc.4.weight 51.11864471435547\n",
      "loc.4.bias 0.012989476323127747\n",
      "loc.5.weight 27.301006317138672\n",
      "loc.5.bias 0.01693294383585453\n",
      "conf.0.weight 436.5450744628906\n",
      "conf.0.bias 0.15632060170173645\n",
      "conf.1.weight 743.8118896484375\n",
      "conf.1.bias 0.23516622185707092\n",
      "conf.2.weight 488.2616882324219\n",
      "conf.2.bias 0.09813839197158813\n",
      "conf.3.weight 317.36895751953125\n",
      "conf.3.bias 0.07044908404350281\n",
      "conf.4.weight 207.88475036621094\n",
      "conf.4.bias 0.03744158148765564\n",
      "conf.5.weight 150.5974884033203\n",
      "conf.5.bias 0.0617247000336647\n"
     ]
    }
   ],
   "source": [
    "\n",
    "d1 = torch.load('/home/amir/data/ssd_pytorch_weights/pas/ssd300_0712_10000.pth')\n",
    "d2 = torch.load('/home/amir/data/ssd_pytorch_weights/pas/ssd300_0712_15000.pth')\n",
    "for k in d1.keys():\n",
    "    assert k in d2.keys()\n",
    "for k in d2.keys():\n",
    "    assert k in d1.keys()\n",
    "    \n",
    "for k in d1.keys():\n",
    "    v1 = d1[k]\n",
    "    v2 = d2[k]\n",
    "    print(k,(v1-v2).abs().sum())\n"
   ]
  },
  {
   "cell_type": "code",
   "execution_count": 32,
   "metadata": {
    "collapsed": false
   },
   "outputs": [
    {
     "data": {
      "text/plain": [
       "0.0"
      ]
     },
     "execution_count": 32,
     "metadata": {},
     "output_type": "execute_result"
    }
   ],
   "source": []
  },
  {
   "cell_type": "code",
   "execution_count": 5,
   "metadata": {
    "collapsed": false
   },
   "outputs": [
    {
     "ename": "NameError",
     "evalue": "name 'oldNetDict' is not defined",
     "output_type": "error",
     "traceback": [
      "\u001b[0;31m---------------------------------------------------------------------------\u001b[0m",
      "\u001b[0;31mNameError\u001b[0m                                 Traceback (most recent call last)",
      "\u001b[0;32m<ipython-input-5-9fd8cdeb739c>\u001b[0m in \u001b[0;36m<module>\u001b[0;34m()\u001b[0m\n\u001b[1;32m      1\u001b[0m \u001b[0;32mfor\u001b[0m \u001b[0miteration\u001b[0m \u001b[0;32min\u001b[0m \u001b[0mrange\u001b[0m\u001b[0;34m(\u001b[0m\u001b[0;36m5000\u001b[0m\u001b[0;34m,\u001b[0m\u001b[0;36m120000\u001b[0m\u001b[0;34m,\u001b[0m\u001b[0;36m10000\u001b[0m\u001b[0;34m)\u001b[0m\u001b[0;34m:\u001b[0m\u001b[0;34m\u001b[0m\u001b[0m\n\u001b[1;32m      2\u001b[0m \u001b[0;34m\u001b[0m\u001b[0m\n\u001b[0;32m----> 3\u001b[0;31m     \u001b[0mweights\u001b[0m\u001b[0;34m.\u001b[0m\u001b[0mappend\u001b[0m\u001b[0;34m(\u001b[0m\u001b[0moldNetDict\u001b[0m\u001b[0;34m[\u001b[0m\u001b[0;34m'vgg.0.bias'\u001b[0m\u001b[0;34m]\u001b[0m\u001b[0;34m.\u001b[0m\u001b[0msqueeze\u001b[0m\u001b[0;34m(\u001b[0m\u001b[0;34m)\u001b[0m\u001b[0;34m.\u001b[0m\u001b[0mcpu\u001b[0m\u001b[0;34m(\u001b[0m\u001b[0;34m)\u001b[0m\u001b[0;34m.\u001b[0m\u001b[0mnumpy\u001b[0m\u001b[0;34m(\u001b[0m\u001b[0;34m)\u001b[0m\u001b[0;34m)\u001b[0m\u001b[0;34m\u001b[0m\u001b[0m\n\u001b[0m\u001b[1;32m      4\u001b[0m     \u001b[0;31m#print(oldNetDict['conf.0.weight'][:3,0].squeeze().cpu().numpy())\u001b[0m\u001b[0;34m\u001b[0m\u001b[0;34m\u001b[0m\u001b[0m\n\u001b[1;32m      5\u001b[0m     \u001b[0;31m#print('---')\u001b[0m\u001b[0;34m\u001b[0m\u001b[0;34m\u001b[0m\u001b[0m\n",
      "\u001b[0;31mNameError\u001b[0m: name 'oldNetDict' is not defined"
     ]
    }
   ],
   "source": [
    "for iteration in range(5000,120000,10000): \n",
    "    weights.append(oldNetDict['vgg.0.bias'].squeeze().cpu().numpy())\n",
    "    #print(oldNetDict['conf.0.weight'][:3,0].squeeze().cpu().numpy())\n",
    "    #print('---')\n",
    "    "
   ]
  },
  {
   "cell_type": "code",
   "execution_count": 18,
   "metadata": {
    "collapsed": true
   },
   "outputs": [
    {
     "data": {
      "text/plain": [
       "array([[[[ 0.,  0.,  0.],\n",
       "         [ 0.,  0.,  0.],\n",
       "         [ 0.,  0.,  0.]],\n",
       "\n",
       "        [[ 0.,  0.,  0.],\n",
       "         [ 0.,  0.,  0.],\n",
       "         [ 0.,  0.,  0.]],\n",
       "\n",
       "        [[ 0.,  0.,  0.],\n",
       "         [ 0.,  0.,  0.],\n",
       "         [ 0.,  0.,  0.]],\n",
       "\n",
       "        ..., \n",
       "        [[ 0.,  0.,  0.],\n",
       "         [ 0.,  0.,  0.],\n",
       "         [ 0.,  0.,  0.]],\n",
       "\n",
       "        [[ 0.,  0.,  0.],\n",
       "         [ 0.,  0.,  0.],\n",
       "         [ 0.,  0.,  0.]],\n",
       "\n",
       "        [[ 0.,  0.,  0.],\n",
       "         [ 0.,  0.,  0.],\n",
       "         [ 0.,  0.,  0.]]],\n",
       "\n",
       "\n",
       "       [[[ 0.,  0.,  0.],\n",
       "         [ 0.,  0.,  0.],\n",
       "         [ 0.,  0.,  0.]],\n",
       "\n",
       "        [[ 0.,  0.,  0.],\n",
       "         [ 0.,  0.,  0.],\n",
       "         [ 0.,  0.,  0.]],\n",
       "\n",
       "        [[ 0.,  0.,  0.],\n",
       "         [ 0.,  0.,  0.],\n",
       "         [ 0.,  0.,  0.]],\n",
       "\n",
       "        ..., \n",
       "        [[ 0.,  0.,  0.],\n",
       "         [ 0.,  0.,  0.],\n",
       "         [ 0.,  0.,  0.]],\n",
       "\n",
       "        [[ 0.,  0.,  0.],\n",
       "         [ 0.,  0.,  0.],\n",
       "         [ 0.,  0.,  0.]],\n",
       "\n",
       "        [[ 0.,  0.,  0.],\n",
       "         [ 0.,  0.,  0.],\n",
       "         [ 0.,  0.,  0.]]],\n",
       "\n",
       "\n",
       "       [[[ 0.,  0.,  0.],\n",
       "         [ 0.,  0.,  0.],\n",
       "         [ 0.,  0.,  0.]],\n",
       "\n",
       "        [[ 0.,  0.,  0.],\n",
       "         [ 0.,  0.,  0.],\n",
       "         [ 0.,  0.,  0.]],\n",
       "\n",
       "        [[ 0.,  0.,  0.],\n",
       "         [ 0.,  0.,  0.],\n",
       "         [ 0.,  0.,  0.]],\n",
       "\n",
       "        ..., \n",
       "        [[ 0.,  0.,  0.],\n",
       "         [ 0.,  0.,  0.],\n",
       "         [ 0.,  0.,  0.]],\n",
       "\n",
       "        [[ 0.,  0.,  0.],\n",
       "         [ 0.,  0.,  0.],\n",
       "         [ 0.,  0.,  0.]],\n",
       "\n",
       "        [[ 0.,  0.,  0.],\n",
       "         [ 0.,  0.,  0.],\n",
       "         [ 0.,  0.,  0.]]],\n",
       "\n",
       "\n",
       "       ..., \n",
       "       [[[ 0.,  0.,  0.],\n",
       "         [ 0.,  0.,  0.],\n",
       "         [ 0.,  0.,  0.]],\n",
       "\n",
       "        [[ 0.,  0.,  0.],\n",
       "         [ 0.,  0.,  0.],\n",
       "         [ 0.,  0.,  0.]],\n",
       "\n",
       "        [[ 0.,  0.,  0.],\n",
       "         [ 0.,  0.,  0.],\n",
       "         [ 0.,  0.,  0.]],\n",
       "\n",
       "        ..., \n",
       "        [[ 0.,  0.,  0.],\n",
       "         [ 0.,  0.,  0.],\n",
       "         [ 0.,  0.,  0.]],\n",
       "\n",
       "        [[ 0.,  0.,  0.],\n",
       "         [ 0.,  0.,  0.],\n",
       "         [ 0.,  0.,  0.]],\n",
       "\n",
       "        [[ 0.,  0.,  0.],\n",
       "         [ 0.,  0.,  0.],\n",
       "         [ 0.,  0.,  0.]]],\n",
       "\n",
       "\n",
       "       [[[ 0.,  0.,  0.],\n",
       "         [ 0.,  0.,  0.],\n",
       "         [ 0.,  0.,  0.]],\n",
       "\n",
       "        [[ 0.,  0.,  0.],\n",
       "         [ 0.,  0.,  0.],\n",
       "         [ 0.,  0.,  0.]],\n",
       "\n",
       "        [[ 0.,  0.,  0.],\n",
       "         [ 0.,  0.,  0.],\n",
       "         [ 0.,  0.,  0.]],\n",
       "\n",
       "        ..., \n",
       "        [[ 0.,  0.,  0.],\n",
       "         [ 0.,  0.,  0.],\n",
       "         [ 0.,  0.,  0.]],\n",
       "\n",
       "        [[ 0.,  0.,  0.],\n",
       "         [ 0.,  0.,  0.],\n",
       "         [ 0.,  0.,  0.]],\n",
       "\n",
       "        [[ 0.,  0.,  0.],\n",
       "         [ 0.,  0.,  0.],\n",
       "         [ 0.,  0.,  0.]]],\n",
       "\n",
       "\n",
       "       [[[ 0.,  0.,  0.],\n",
       "         [ 0.,  0.,  0.],\n",
       "         [ 0.,  0.,  0.]],\n",
       "\n",
       "        [[ 0.,  0.,  0.],\n",
       "         [ 0.,  0.,  0.],\n",
       "         [ 0.,  0.,  0.]],\n",
       "\n",
       "        [[ 0.,  0.,  0.],\n",
       "         [ 0.,  0.,  0.],\n",
       "         [ 0.,  0.,  0.]],\n",
       "\n",
       "        ..., \n",
       "        [[ 0.,  0.,  0.],\n",
       "         [ 0.,  0.,  0.],\n",
       "         [ 0.,  0.,  0.]],\n",
       "\n",
       "        [[ 0.,  0.,  0.],\n",
       "         [ 0.,  0.,  0.],\n",
       "         [ 0.,  0.,  0.]],\n",
       "\n",
       "        [[ 0.,  0.,  0.],\n",
       "         [ 0.,  0.,  0.],\n",
       "         [ 0.,  0.,  0.]]]], dtype=float32)"
      ]
     },
     "execution_count": 18,
     "metadata": {},
     "output_type": "execute_result"
    }
   ],
   "source": [
    "weights[0]-weights[10]"
   ]
  },
  {
   "cell_type": "code",
   "execution_count": 5,
   "metadata": {
    "collapsed": false
   },
   "outputs": [],
   "source": [
    "import torch\n",
    "use_bias=False\n",
    "for iteration in range(5000,120000,10000):\n",
    "    oldNetPath = '/home/amir/priming_weights/ssd300_0712_{}.pth'.format(iteration)\n",
    "    oldNetDict = torch.load(oldNetPath)\n",
    "    net = torch.load(oldNetPath)\n",
    "    if use_bias:\n",
    "        newNetPath = oldNetPath+'_bias'\n",
    "    else:\n",
    "        newNetPath = oldNetPath+'3'\n",
    "    net2 = build_ssd('test', 300, 21,controller_bias=use_bias) \n",
    "    new_net_dict = net2.state_dict()\n",
    "    for k in oldNetDict.keys():\n",
    "        if k in new_net_dict:\n",
    "            new_net_dict[k] = oldNetDict[k]\n",
    "\n",
    "        #v = net[k]\n",
    "        #v_new = net_new[k]\n",
    "        #assert (v==v_new).all()            \n",
    "    net2.load_state_dict(new_net_dict)\n",
    "    torch.save(new_net_dict,newNetPath)"
   ]
  },
  {
   "cell_type": "code",
   "execution_count": 15,
   "metadata": {
    "collapsed": false
   },
   "outputs": [
    {
     "data": {
      "text/plain": [
       "torch.Size([64, 3, 3, 3])"
      ]
     },
     "execution_count": 15,
     "metadata": {},
     "output_type": "execute_result"
    }
   ],
   "source": [
    "new_net_dict['vgg.0.weight'].size()"
   ]
  },
  {
   "cell_type": "code",
   "execution_count": 16,
   "metadata": {
    "collapsed": false
   },
   "outputs": [
    {
     "data": {
      "text/plain": [
       "torch.Size([128, 20])"
      ]
     },
     "execution_count": 16,
     "metadata": {},
     "output_type": "execute_result"
    }
   ],
   "source": [
    "new_net_dict['vgg_controllers.0.0.weight'].size()"
   ]
  },
  {
   "cell_type": "code",
   "execution_count": 11,
   "metadata": {
    "collapsed": true
   },
   "outputs": [
    {
     "data": {
      "text/plain": [
       "odict_keys(['vgg.0.weight', 'vgg.0.bias', 'vgg.2.weight', 'vgg.2.bias', 'vgg.5.weight', 'vgg.5.bias', 'vgg.7.weight', 'vgg.7.bias', 'vgg.10.weight', 'vgg.10.bias', 'vgg.12.weight', 'vgg.12.bias', 'vgg.14.weight', 'vgg.14.bias', 'vgg.17.weight', 'vgg.17.bias', 'vgg.19.weight', 'vgg.19.bias', 'vgg.21.weight', 'vgg.21.bias', 'vgg.24.weight', 'vgg.24.bias', 'vgg.26.weight', 'vgg.26.bias', 'vgg.28.weight', 'vgg.28.bias', 'vgg.31.weight', 'vgg.31.bias', 'vgg.33.weight', 'vgg.33.bias', 'L2Norm.weight', 'extras.0.weight', 'extras.0.bias', 'extras.1.weight', 'extras.1.bias', 'extras.2.weight', 'extras.2.bias', 'extras.3.weight', 'extras.3.bias', 'extras.4.weight', 'extras.4.bias', 'extras.5.weight', 'extras.5.bias', 'extras.6.weight', 'extras.6.bias', 'extras.7.weight', 'extras.7.bias', 'loc.0.weight', 'loc.0.bias', 'loc.1.weight', 'loc.1.bias', 'loc.2.weight', 'loc.2.bias', 'loc.3.weight', 'loc.3.bias', 'loc.4.weight', 'loc.4.bias', 'loc.5.weight', 'loc.5.bias', 'conf.0.weight', 'conf.0.bias', 'conf.1.weight', 'conf.1.bias', 'conf.2.weight', 'conf.2.bias', 'conf.3.weight', 'conf.3.bias', 'conf.4.weight', 'conf.4.bias', 'conf.5.weight', 'conf.5.bias', 'vgg_controllers.0.0.weight', 'vgg_controllers.2.0.weight', 'vgg_controllers.5.0.weight', 'vgg_controllers.7.0.weight', 'vgg_controllers.10.0.weight', 'vgg_controllers.12.0.weight', 'vgg_controllers.14.0.weight', 'vgg_controllers.17.0.weight', 'vgg_controllers.19.0.weight', 'vgg_controllers.21.0.weight', 'vgg_controllers.24.0.weight', 'vgg_controllers.26.0.weight', 'vgg_controllers.28.0.weight', 'vgg_controllers.31.0.weight', 'vgg_controllers.33.0.weight', 'extra_controllers.0.0.weight', 'extra_controllers.1.0.weight', 'extra_controllers.2.0.weight', 'extra_controllers.3.0.weight', 'extra_controllers.4.0.weight', 'extra_controllers.5.0.weight', 'extra_controllers.6.0.weight', 'extra_controllers.7.0.weight', 'loc_controllers.0.0.weight', 'loc_controllers.1.0.weight', 'loc_controllers.2.0.weight', 'loc_controllers.3.0.weight', 'loc_controllers.4.0.weight', 'loc_controllers.5.0.weight', 'conf_controllers.0.0.weight', 'conf_controllers.1.0.weight', 'conf_controllers.2.0.weight', 'conf_controllers.3.0.weight', 'conf_controllers.4.0.weight', 'conf_controllers.5.0.weight'])"
      ]
     },
     "execution_count": 11,
     "metadata": {},
     "output_type": "execute_result"
    }
   ],
   "source": [
    "new_net_dict.keys()"
   ]
  },
  {
   "cell_type": "code",
   "execution_count": 7,
   "metadata": {
    "collapsed": false
   },
   "outputs": [],
   "source": [
    "def load_weights2(new_net,oldNetDict):\n",
    "    # load network weights into a larger network with added layers.    \n",
    "    new_net_dict = new_net.state_dict()\n",
    "    for k in oldNetDict.keys():\n",
    "        if k in new_net_dict:\n",
    "            new_net_dict[k] = oldNetDict[k]\n",
    "    new_net.load_state_dict(new_net_dict)\n",
    "\n",
    "    #v = net[k]\n",
    "    #v_new = net_new[k]\n",
    "    #assert (v==v_new).all()            \n",
    "#net2.load_state_dict(new_net_dict)\n",
    "    \n",
    "    \n",
    "    "
   ]
  },
  {
   "cell_type": "code",
   "execution_count": 16,
   "metadata": {
    "collapsed": false
   },
   "outputs": [],
   "source": [
    "net2 = build_ssd('test', 300, 21, controller_bias=False)    # initialize SSD\n",
    "oldNetDict = torch.load(\n",
    "    '/home/amir/ssd.pytorch/weights/ssd300_mAP_77.43_v2.pth')\n",
    "load_weights2(net2, oldNetDict)\n",
    "torch.save(net2.state_dict(),\n",
    "           '/home/amir/ssd.pytorch/weights/ssd300_mAP_77.43_v2.pth2')"
   ]
  },
  {
   "cell_type": "code",
   "execution_count": 21,
   "metadata": {
    "collapsed": false
   },
   "outputs": [],
   "source": [
    "MMM = '/home/amir/priming_weights/ssd300_0712_115000.pth'\n",
    "oldNetDict = torch.load(MMM)\n",
    "whatToRemove = ['control']\n",
    "newDict = {}\n",
    "for q in oldNetDict.keys():\n",
    "    toKeep=True\n",
    "    for z in whatToRemove:\n",
    "        if z in q:\n",
    "            toKeep=False\n",
    "        break\n",
    "    if toKeep:\n",
    "    #    print(q)\n",
    "        newDict[q] = oldNetDict[q]\n",
    "torch.save(newDict,\n",
    "           MMM+'_orig')\n",
    "#[k for k in oldNetDict.keys() if k not in whatToRemove]"
   ]
  },
  {
   "cell_type": "code",
   "execution_count": 18,
   "metadata": {
    "collapsed": false
   },
   "outputs": [
    {
     "data": {
      "text/plain": [
       "'/home/amir/priming_weights/ssd300_0712_115000.pth_orig'"
      ]
     },
     "execution_count": 18,
     "metadata": {},
     "output_type": "execute_result"
    }
   ],
   "source": [
    " MMM+'_orig'"
   ]
  },
  {
   "cell_type": "code",
   "execution_count": 8,
   "metadata": {
    "collapsed": false
   },
   "outputs": [],
   "source": [
    "MMM = '/home/amir/priming_weights/ssd300_0712_115000.pth'\n",
    "\n",
    "net2 = build_ssd('test', 300, 21, controller_bias=False)    # initialize SSD\n",
    "oldNetDict = torch.load(MMM+'_orig')\n",
    "load_weights2(net2, oldNetDict)\n",
    "#torch.save(net2.state_dict(),\n",
    "#           MMM+'_orig2')\n",
    "torch.save(net2.state_dict(),\n",
    "           MMM+'2')\n",
    "\n"
   ]
  },
  {
   "cell_type": "code",
   "execution_count": 9,
   "metadata": {
    "collapsed": true
   },
   "outputs": [],
   "source": [
    "net2 = build_ssd('test', 300, 21, controller_bias=True,add_hint_interpreter=False)    # initialize SSD\n",
    "MMM = '/home/amir/priming_weights/ssd300_0712_115000.pth'\n",
    "oldNetDict = torch.load(MMM)\n",
    "load_weights2(net2, oldNetDict)\n",
    "torch.save(net2.state_dict(),\n",
    "           MMM+'_b')"
   ]
  },
  {
   "cell_type": "code",
   "execution_count": 9,
   "metadata": {
    "collapsed": false
   },
   "outputs": [],
   "source": [
    "net2 = build_ssd('test', 300, 21, controller_bias=False,add_hint_interpreter=True)    # initialize SSD\n",
    "MMM = '/home/amir/priming_weights/ssd300_0712_115000.pth'\n",
    "oldNetDict = torch.load(MMM)\n",
    "load_weights2(net2, oldNetDict)\n",
    "torch.save(net2.state_dict(),\n",
    "           MMM+'_intrp')"
   ]
  },
  {
   "cell_type": "code",
   "execution_count": 7,
   "metadata": {
    "collapsed": false
   },
   "outputs": [],
   "source": [
    "net2 = build_ssd('test', 300, 21, controller_bias=False,add_hint_interpreter=True)    # initialize SSD\n",
    "MMM = '/home/amir/priming_weights/ssd300_0712_115000.pth'\n",
    "oldNetDict = torch.load(MMM)\n",
    "load_weights2(net2, oldNetDict)\n",
    "torch.save(net2.state_dict(),\n",
    "           MMM+'_intrp')\n",
    "net2 = build_ssd('test', 300, 21, controller_bias=True,add_hint_interpreter=True)    # initialize SSD\n",
    "MMM = '/home/amir/priming_weights/ssd300_0712_115000.pth'\n",
    "oldNetDict = torch.load(MMM)\n",
    "load_weights2(net2, oldNetDict)\n",
    "torch.save(net2.state_dict(),\n",
    "           MMM+'_b_intrp')"
   ]
  },
  {
   "cell_type": "code",
   "execution_count": 8,
   "metadata": {
    "collapsed": false
   },
   "outputs": [
    {
     "data": {
      "text/plain": [
       "odict_keys(['vgg.0.weight', 'vgg.0.bias', 'vgg.2.weight', 'vgg.2.bias', 'vgg.5.weight', 'vgg.5.bias', 'vgg.7.weight', 'vgg.7.bias', 'vgg.10.weight', 'vgg.10.bias', 'vgg.12.weight', 'vgg.12.bias', 'vgg.14.weight', 'vgg.14.bias', 'vgg.17.weight', 'vgg.17.bias', 'vgg.19.weight', 'vgg.19.bias', 'vgg.21.weight', 'vgg.21.bias', 'vgg.24.weight', 'vgg.24.bias', 'vgg.26.weight', 'vgg.26.bias', 'vgg.28.weight', 'vgg.28.bias', 'vgg.31.weight', 'vgg.31.bias', 'vgg.33.weight', 'vgg.33.bias', 'L2Norm.weight', 'extras.0.weight', 'extras.0.bias', 'extras.1.weight', 'extras.1.bias', 'extras.2.weight', 'extras.2.bias', 'extras.3.weight', 'extras.3.bias', 'extras.4.weight', 'extras.4.bias', 'extras.5.weight', 'extras.5.bias', 'extras.6.weight', 'extras.6.bias', 'extras.7.weight', 'extras.7.bias', 'loc.0.weight', 'loc.0.bias', 'loc.1.weight', 'loc.1.bias', 'loc.2.weight', 'loc.2.bias', 'loc.3.weight', 'loc.3.bias', 'loc.4.weight', 'loc.4.bias', 'loc.5.weight', 'loc.5.bias', 'conf.0.weight', 'conf.0.bias', 'conf.1.weight', 'conf.1.bias', 'conf.2.weight', 'conf.2.bias', 'conf.3.weight', 'conf.3.bias', 'conf.4.weight', 'conf.4.bias', 'conf.5.weight', 'conf.5.bias', 'hint_interpreter.0.weight', 'hint_interpreter.0.bias', 'vgg_controllers.0.0.weight', 'vgg_controllers.0.0.bias', 'vgg_controllers.2.0.weight', 'vgg_controllers.2.0.bias', 'vgg_controllers.5.0.weight', 'vgg_controllers.5.0.bias', 'vgg_controllers.7.0.weight', 'vgg_controllers.7.0.bias', 'vgg_controllers.10.0.weight', 'vgg_controllers.10.0.bias', 'vgg_controllers.12.0.weight', 'vgg_controllers.12.0.bias', 'vgg_controllers.14.0.weight', 'vgg_controllers.14.0.bias', 'vgg_controllers.17.0.weight', 'vgg_controllers.17.0.bias', 'vgg_controllers.19.0.weight', 'vgg_controllers.19.0.bias', 'vgg_controllers.21.0.weight', 'vgg_controllers.21.0.bias', 'vgg_controllers.24.0.weight', 'vgg_controllers.24.0.bias', 'vgg_controllers.26.0.weight', 'vgg_controllers.26.0.bias', 'vgg_controllers.28.0.weight', 'vgg_controllers.28.0.bias', 'vgg_controllers.31.0.weight', 'vgg_controllers.31.0.bias', 'vgg_controllers.33.0.weight', 'vgg_controllers.33.0.bias', 'extra_controllers.0.0.weight', 'extra_controllers.0.0.bias', 'extra_controllers.1.0.weight', 'extra_controllers.1.0.bias', 'extra_controllers.2.0.weight', 'extra_controllers.2.0.bias', 'extra_controllers.3.0.weight', 'extra_controllers.3.0.bias', 'extra_controllers.4.0.weight', 'extra_controllers.4.0.bias', 'extra_controllers.5.0.weight', 'extra_controllers.5.0.bias', 'extra_controllers.6.0.weight', 'extra_controllers.6.0.bias', 'extra_controllers.7.0.weight', 'extra_controllers.7.0.bias', 'loc_controllers.0.0.weight', 'loc_controllers.0.0.bias', 'loc_controllers.1.0.weight', 'loc_controllers.1.0.bias', 'loc_controllers.2.0.weight', 'loc_controllers.2.0.bias', 'loc_controllers.3.0.weight', 'loc_controllers.3.0.bias', 'loc_controllers.4.0.weight', 'loc_controllers.4.0.bias', 'loc_controllers.5.0.weight', 'loc_controllers.5.0.bias', 'conf_controllers.0.0.weight', 'conf_controllers.0.0.bias', 'conf_controllers.1.0.weight', 'conf_controllers.1.0.bias', 'conf_controllers.2.0.weight', 'conf_controllers.2.0.bias', 'conf_controllers.3.0.weight', 'conf_controllers.3.0.bias', 'conf_controllers.4.0.weight', 'conf_controllers.4.0.bias', 'conf_controllers.5.0.weight', 'conf_controllers.5.0.bias'])"
      ]
     },
     "execution_count": 8,
     "metadata": {},
     "output_type": "execute_result"
    }
   ],
   "source": [
    "net2.state_dict().keys()"
   ]
  },
  {
   "cell_type": "code",
   "execution_count": 28,
   "metadata": {
    "collapsed": false
   },
   "outputs": [
    {
     "data": {
      "text/plain": [
       "odict_keys(['vgg.0.weight', 'vgg.0.bias', 'vgg.2.weight', 'vgg.2.bias', 'vgg.5.weight', 'vgg.5.bias', 'vgg.7.weight', 'vgg.7.bias', 'vgg.10.weight', 'vgg.10.bias', 'vgg.12.weight', 'vgg.12.bias', 'vgg.14.weight', 'vgg.14.bias', 'vgg.17.weight', 'vgg.17.bias', 'vgg.19.weight', 'vgg.19.bias', 'vgg.21.weight', 'vgg.21.bias', 'vgg.24.weight', 'vgg.24.bias', 'vgg.26.weight', 'vgg.26.bias', 'vgg.28.weight', 'vgg.28.bias', 'vgg.31.weight', 'vgg.31.bias', 'vgg.33.weight', 'vgg.33.bias', 'L2Norm.weight', 'extras.0.weight', 'extras.0.bias', 'extras.1.weight', 'extras.1.bias', 'extras.2.weight', 'extras.2.bias', 'extras.3.weight', 'extras.3.bias', 'extras.4.weight', 'extras.4.bias', 'extras.5.weight', 'extras.5.bias', 'extras.6.weight', 'extras.6.bias', 'extras.7.weight', 'extras.7.bias', 'loc.0.weight', 'loc.0.bias', 'loc.1.weight', 'loc.1.bias', 'loc.2.weight', 'loc.2.bias', 'loc.3.weight', 'loc.3.bias', 'loc.4.weight', 'loc.4.bias', 'loc.5.weight', 'loc.5.bias', 'conf.0.weight', 'conf.0.bias', 'conf.1.weight', 'conf.1.bias', 'conf.2.weight', 'conf.2.bias', 'conf.3.weight', 'conf.3.bias', 'conf.4.weight', 'conf.4.bias', 'conf.5.weight', 'conf.5.bias', 'hint_interpreter.0.weight', 'hint_interpreter.0.bias', 'vgg_controllers.0.0.weight', 'vgg_controllers.2.0.weight', 'vgg_controllers.5.0.weight', 'vgg_controllers.7.0.weight', 'vgg_controllers.10.0.weight', 'vgg_controllers.12.0.weight', 'vgg_controllers.14.0.weight', 'vgg_controllers.17.0.weight', 'vgg_controllers.19.0.weight', 'vgg_controllers.21.0.weight', 'vgg_controllers.24.0.weight', 'vgg_controllers.26.0.weight', 'vgg_controllers.28.0.weight', 'vgg_controllers.31.0.weight', 'vgg_controllers.33.0.weight', 'extra_controllers.0.0.weight', 'extra_controllers.1.0.weight', 'extra_controllers.2.0.weight', 'extra_controllers.3.0.weight', 'extra_controllers.4.0.weight', 'extra_controllers.5.0.weight', 'extra_controllers.6.0.weight', 'extra_controllers.7.0.weight', 'loc_controllers.0.0.weight', 'loc_controllers.1.0.weight', 'loc_controllers.2.0.weight', 'loc_controllers.3.0.weight', 'loc_controllers.4.0.weight', 'loc_controllers.5.0.weight', 'conf_controllers.0.0.weight', 'conf_controllers.1.0.weight', 'conf_controllers.2.0.weight', 'conf_controllers.3.0.weight', 'conf_controllers.4.0.weight', 'conf_controllers.5.0.weight'])"
      ]
     },
     "execution_count": 28,
     "metadata": {},
     "output_type": "execute_result"
    }
   ],
   "source": [
    "net2.state_dict().keys()"
   ]
  },
  {
   "cell_type": "code",
   "execution_count": 18,
   "metadata": {
    "collapsed": true
   },
   "outputs": [
    {
     "data": {
      "text/plain": [
       "odict_keys(['vgg.0.weight', 'vgg.0.bias', 'vgg.2.weight', 'vgg.2.bias', 'vgg.5.weight', 'vgg.5.bias', 'vgg.7.weight', 'vgg.7.bias', 'vgg.10.weight', 'vgg.10.bias', 'vgg.12.weight', 'vgg.12.bias', 'vgg.14.weight', 'vgg.14.bias', 'vgg.17.weight', 'vgg.17.bias', 'vgg.19.weight', 'vgg.19.bias', 'vgg.21.weight', 'vgg.21.bias', 'vgg.24.weight', 'vgg.24.bias', 'vgg.26.weight', 'vgg.26.bias', 'vgg.28.weight', 'vgg.28.bias', 'vgg.31.weight', 'vgg.31.bias', 'vgg.33.weight', 'vgg.33.bias', 'L2Norm.weight', 'extras.0.weight', 'extras.0.bias', 'extras.1.weight', 'extras.1.bias', 'extras.2.weight', 'extras.2.bias', 'extras.3.weight', 'extras.3.bias', 'extras.4.weight', 'extras.4.bias', 'extras.5.weight', 'extras.5.bias', 'extras.6.weight', 'extras.6.bias', 'extras.7.weight', 'extras.7.bias', 'loc.0.weight', 'loc.0.bias', 'loc.1.weight', 'loc.1.bias', 'loc.2.weight', 'loc.2.bias', 'loc.3.weight', 'loc.3.bias', 'loc.4.weight', 'loc.4.bias', 'loc.5.weight', 'loc.5.bias', 'conf.0.weight', 'conf.0.bias', 'conf.1.weight', 'conf.1.bias', 'conf.2.weight', 'conf.2.bias', 'conf.3.weight', 'conf.3.bias', 'conf.4.weight', 'conf.4.bias', 'conf.5.weight', 'conf.5.bias', 'vgg_controllers.0.0.weight', 'vgg_controllers.2.0.weight', 'vgg_controllers.5.0.weight', 'vgg_controllers.7.0.weight', 'vgg_controllers.10.0.weight', 'vgg_controllers.12.0.weight', 'vgg_controllers.14.0.weight', 'vgg_controllers.17.0.weight', 'vgg_controllers.19.0.weight', 'vgg_controllers.21.0.weight', 'vgg_controllers.24.0.weight', 'vgg_controllers.26.0.weight', 'vgg_controllers.28.0.weight', 'vgg_controllers.31.0.weight', 'vgg_controllers.33.0.weight', 'extra_controllers.0.0.weight', 'extra_controllers.1.0.weight', 'extra_controllers.2.0.weight', 'extra_controllers.3.0.weight', 'extra_controllers.4.0.weight', 'extra_controllers.5.0.weight', 'extra_controllers.6.0.weight', 'extra_controllers.7.0.weight', 'loc_controllers.0.0.weight', 'loc_controllers.1.0.weight', 'loc_controllers.2.0.weight', 'loc_controllers.3.0.weight', 'loc_controllers.4.0.weight', 'loc_controllers.5.0.weight', 'conf_controllers.0.0.weight', 'conf_controllers.1.0.weight', 'conf_controllers.2.0.weight', 'conf_controllers.3.0.weight', 'conf_controllers.4.0.weight', 'conf_controllers.5.0.weight'])"
      ]
     },
     "execution_count": 18,
     "metadata": {},
     "output_type": "execute_result"
    }
   ],
   "source": [
    "new_net.keys()"
   ]
  },
  {
   "cell_type": "code",
   "execution_count": 7,
   "metadata": {
    "collapsed": false
   },
   "outputs": [
    {
     "name": "stdout",
     "output_type": "stream",
     "text": [
      "/home/amir/priming_weights/ssd300_0712_50000.pth2\n"
     ]
    }
   ],
   "source": [
    "print(newNetPath)"
   ]
  },
  {
   "cell_type": "code",
   "execution_count": 19,
   "metadata": {
    "collapsed": true
   },
   "outputs": [
    {
     "data": {
      "text/plain": [
       "odict_keys(['vgg.0.weight', 'vgg.0.bias', 'vgg.2.weight', 'vgg.2.bias', 'vgg.5.weight', 'vgg.5.bias', 'vgg.7.weight', 'vgg.7.bias', 'vgg.10.weight', 'vgg.10.bias', 'vgg.12.weight', 'vgg.12.bias', 'vgg.14.weight', 'vgg.14.bias', 'vgg.17.weight', 'vgg.17.bias', 'vgg.19.weight', 'vgg.19.bias', 'vgg.21.weight', 'vgg.21.bias', 'vgg.24.weight', 'vgg.24.bias', 'vgg.26.weight', 'vgg.26.bias', 'vgg.28.weight', 'vgg.28.bias', 'vgg.31.weight', 'vgg.31.bias', 'vgg.33.weight', 'vgg.33.bias', 'L2Norm.weight', 'extras.0.weight', 'extras.0.bias', 'extras.1.weight', 'extras.1.bias', 'extras.2.weight', 'extras.2.bias', 'extras.3.weight', 'extras.3.bias', 'extras.4.weight', 'extras.4.bias', 'extras.5.weight', 'extras.5.bias', 'extras.6.weight', 'extras.6.bias', 'extras.7.weight', 'extras.7.bias', 'loc.0.weight', 'loc.0.bias', 'loc.1.weight', 'loc.1.bias', 'loc.2.weight', 'loc.2.bias', 'loc.3.weight', 'loc.3.bias', 'loc.4.weight', 'loc.4.bias', 'loc.5.weight', 'loc.5.bias', 'conf.0.weight', 'conf.0.bias', 'conf.1.weight', 'conf.1.bias', 'conf.2.weight', 'conf.2.bias', 'conf.3.weight', 'conf.3.bias', 'conf.4.weight', 'conf.4.bias', 'conf.5.weight', 'conf.5.bias', 'vgg_controllers.0.0.weight', 'vgg_controllers.2.0.weight', 'vgg_controllers.5.0.weight', 'vgg_controllers.7.0.weight', 'vgg_controllers.10.0.weight', 'vgg_controllers.12.0.weight', 'vgg_controllers.14.0.weight', 'vgg_controllers.17.0.weight', 'vgg_controllers.19.0.weight', 'vgg_controllers.21.0.weight', 'vgg_controllers.24.0.weight', 'vgg_controllers.26.0.weight', 'vgg_controllers.28.0.weight', 'vgg_controllers.31.0.weight', 'vgg_controllers.33.0.weight', 'extra_controllers.0.0.weight', 'extra_controllers.1.0.weight', 'extra_controllers.2.0.weight', 'extra_controllers.3.0.weight', 'extra_controllers.4.0.weight', 'extra_controllers.5.0.weight', 'extra_controllers.6.0.weight', 'extra_controllers.7.0.weight', 'loc_controllers.0.0.weight', 'loc_controllers.1.0.weight', 'loc_controllers.2.0.weight', 'loc_controllers.3.0.weight', 'loc_controllers.4.0.weight', 'loc_controllers.5.0.weight', 'conf_controllers.0.0.weight', 'conf_controllers.1.0.weight', 'conf_controllers.2.0.weight', 'conf_controllers.3.0.weight', 'conf_controllers.4.0.weight', 'conf_controllers.5.0.weight'])"
      ]
     },
     "execution_count": 19,
     "metadata": {},
     "output_type": "execute_result"
    }
   ],
   "source": [
    "oldNetDict.keys()"
   ]
  },
  {
   "cell_type": "code",
   "execution_count": 17,
   "metadata": {
    "collapsed": false
   },
   "outputs": [
    {
     "ename": "AssertionError",
     "evalue": "",
     "output_type": "error",
     "traceback": [
      "\u001b[0;31m---------------------------------------------------------------------------\u001b[0m",
      "\u001b[0;31mAssertionError\u001b[0m                            Traceback (most recent call last)",
      "\u001b[0;32m<ipython-input-17-1bac4345f03f>\u001b[0m in \u001b[0;36m<module>\u001b[0;34m()\u001b[0m\n\u001b[1;32m      6\u001b[0m     \u001b[0mv\u001b[0m \u001b[0;34m=\u001b[0m \u001b[0mnet\u001b[0m\u001b[0;34m[\u001b[0m\u001b[0mk\u001b[0m\u001b[0;34m]\u001b[0m\u001b[0;34m\u001b[0m\u001b[0m\n\u001b[1;32m      7\u001b[0m     \u001b[0mv_new\u001b[0m \u001b[0;34m=\u001b[0m \u001b[0mnet_new\u001b[0m\u001b[0;34m[\u001b[0m\u001b[0mk\u001b[0m\u001b[0;34m]\u001b[0m\u001b[0;34m\u001b[0m\u001b[0m\n\u001b[0;32m----> 8\u001b[0;31m     \u001b[0;32massert\u001b[0m \u001b[0;34m(\u001b[0m\u001b[0mv\u001b[0m\u001b[0;34m==\u001b[0m\u001b[0mv_new\u001b[0m\u001b[0;34m)\u001b[0m\u001b[0;34m.\u001b[0m\u001b[0mall\u001b[0m\u001b[0;34m(\u001b[0m\u001b[0;34m)\u001b[0m\u001b[0;34m\u001b[0m\u001b[0m\n\u001b[0m",
      "\u001b[0;31mAssertionError\u001b[0m: "
     ]
    }
   ],
   "source": [
    "net2 = build_ssd('test', 300, 21,controller_bias=False)    # initialize SSD\n",
    "net_new = net2.state_dict()\n",
    "outputPath = '/home/amir/data/weights_ssd/baseline/ssd300_0712_5000.pth2'\n",
    "net = torch.load('/home/amir/data/weights_ssd/baseline/ssd300_0712_5000.pth')\n",
    "for k in net_new.keys():\n",
    "    v = net[k]\n",
    "    v_new = net_new[k]\n",
    "    assert (v==v_new).all()            "
   ]
  },
  {
   "cell_type": "code",
   "execution_count": 57,
   "metadata": {
    "collapsed": false
   },
   "outputs": [],
   "source": [
    "# fix empty fields.\n",
    "\n",
    "net = build_ssd('test', 300, 21)    # initialize SSD\n",
    "P = '/home/amir/ssd.pytorch_primed/weights/'\n",
    "a = torch.load(P)\n",
    "\n",
    "for k,v in a.items():\n",
    "    #print(k)\n",
    "    curDict[k] = v\n",
    "net.load_state_dict(curDict)\n",
    "torch.save(net.state_dict(), P.replace('ssd.pytorch','ssd.pytorch_primed').replace('pas/',''))\n",
    "\n",
    "#a['vgg.0.weight'][0]"
   ]
  },
  {
   "cell_type": "code",
   "execution_count": 14,
   "metadata": {
    "collapsed": false
   },
   "outputs": [],
   "source": [
    "net = build_ssd('test', 300, 21)    # initialize SSD"
   ]
  },
  {
   "cell_type": "code",
   "execution_count": 53,
   "metadata": {
    "collapsed": false
   },
   "outputs": [
    {
     "data": {
      "text/plain": [
       "11"
      ]
     },
     "execution_count": 53,
     "metadata": {},
     "output_type": "execute_result"
    }
   ],
   "source": [
    "P.find('ssd.pytorch')"
   ]
  },
  {
   "cell_type": "code",
   "execution_count": 47,
   "metadata": {
    "collapsed": true
   },
   "outputs": [],
   "source": [
    "b = torch.load('/home/amir/ssd.pytorch_primed/weights/pas/ssd300_0712_75000.pth'"
   ]
  },
  {
   "cell_type": "code",
   "execution_count": 48,
   "metadata": {
    "collapsed": true
   },
   "outputs": [
    {
     "data": {
      "text/plain": [
       "\n",
       "(0 ,0 ,.,.) = \n",
       "  4.0795e-01  4.2985e-01 -4.4041e-02\n",
       "  2.6562e-01  6.0008e-02 -4.0053e-01\n",
       " -4.6190e-02 -2.5833e-01 -3.1970e-01\n",
       "\n",
       "(0 ,1 ,.,.) = \n",
       "  4.2310e-01  4.3417e-01 -7.1929e-02\n",
       "  2.7141e-01  4.6477e-02 -4.4186e-01\n",
       " -6.0331e-02 -2.8920e-01 -3.6678e-01\n",
       "\n",
       "(0 ,2 ,.,.) = \n",
       "  3.5455e-01  3.9244e-01 -4.6439e-02\n",
       "  2.4350e-01  6.1015e-02 -3.7046e-01\n",
       " -4.4619e-02 -2.3609e-01 -2.9443e-01\n",
       "     ⋮ \n",
       "\n",
       "(1 ,0 ,.,.) = \n",
       "  8.0682e-02  1.1455e-01  9.2269e-02\n",
       "  9.8936e-02  1.4361e-01  1.0553e-01\n",
       "  7.5845e-02  1.0951e-01  7.8154e-02\n",
       "\n",
       "(1 ,1 ,.,.) = \n",
       "  1.3249e-02  2.6368e-02  2.7674e-02\n",
       "  6.6764e-03  2.7866e-02  1.4837e-02\n",
       "  1.0564e-02  2.0237e-02  1.2513e-02\n",
       "\n",
       "(1 ,2 ,.,.) = \n",
       " -7.1109e-02 -7.8564e-02 -5.3694e-02\n",
       " -1.0268e-01 -1.0366e-01 -9.0836e-02\n",
       " -7.6712e-02 -8.9284e-02 -7.2300e-02\n",
       "     ⋮ \n",
       "\n",
       "(2 ,0 ,.,.) = \n",
       "  9.6963e-03 -1.8013e-02 -1.2416e-01\n",
       "  1.3878e-01  1.6707e-01 -1.0307e-01\n",
       " -1.8268e-02 -1.5839e-02 -1.3581e-01\n",
       "\n",
       "(2 ,1 ,.,.) = \n",
       "  4.3964e-02  1.1915e-02 -1.1835e-01\n",
       "  1.9131e-01  2.1468e-01 -8.8463e-02\n",
       "  2.0144e-02  1.4832e-02 -1.3082e-01\n",
       "\n",
       "(2 ,2 ,.,.) = \n",
       "  2.6259e-02 -5.2763e-03 -1.1197e-01\n",
       "  1.4909e-01  1.7222e-01 -9.3266e-02\n",
       " -4.2552e-03 -7.5848e-03 -1.2718e-01\n",
       "...   \n",
       "     ⋮ \n",
       "\n",
       "(61,0 ,.,.) = \n",
       " -3.9012e-02 -1.0761e-01 -4.6130e-02\n",
       " -5.4164e-02  1.4339e-02 -9.7359e-02\n",
       " -6.9929e-02 -6.6318e-02 -8.5715e-02\n",
       "\n",
       "(61,1 ,.,.) = \n",
       " -1.5344e-02 -6.2552e-02 -1.0619e-02\n",
       " -1.7539e-02  7.4858e-02 -4.3483e-02\n",
       " -4.7984e-02 -2.1034e-02 -4.4275e-02\n",
       "\n",
       "(61,2 ,.,.) = \n",
       " -4.1077e-02 -7.4929e-02 -3.0171e-02\n",
       " -3.6460e-02  6.3774e-02 -5.6040e-02\n",
       " -6.2800e-02 -3.0052e-02 -5.9309e-02\n",
       "     ⋮ \n",
       "\n",
       "(62,0 ,.,.) = \n",
       " -5.8219e-02 -2.6627e-01 -3.7111e-01\n",
       "  3.7410e-01  3.2925e-01 -2.9507e-01\n",
       "  1.9325e-01  2.5869e-01 -1.3682e-01\n",
       "\n",
       "(62,1 ,.,.) = \n",
       " -5.6240e-02 -2.7456e-01 -3.9940e-01\n",
       "  3.8887e-01  3.3640e-01 -3.1212e-01\n",
       "  2.0405e-01  2.5387e-01 -1.5669e-01\n",
       "\n",
       "(62,2 ,.,.) = \n",
       " -5.8402e-02 -2.5538e-01 -3.4938e-01\n",
       "  3.3531e-01  3.0340e-01 -2.8220e-01\n",
       "  1.6472e-01  2.2537e-01 -1.3383e-01\n",
       "     ⋮ \n",
       "\n",
       "(63,0 ,.,.) = \n",
       "  2.5943e-03 -6.6548e-02 -2.9324e-01\n",
       "  3.5895e-01  4.9296e-01 -2.6079e-01\n",
       " -1.7107e-02  4.5799e-02 -2.9086e-01\n",
       "\n",
       "(63,1 ,.,.) = \n",
       " -1.6385e-02 -8.8944e-02 -3.2880e-01\n",
       "  3.5232e-01  4.8620e-01 -2.8602e-01\n",
       " -3.4813e-02  1.7706e-02 -3.2745e-01\n",
       "\n",
       "(63,2 ,.,.) = \n",
       " -3.9745e-03 -4.4496e-02 -2.3209e-01\n",
       "  3.1251e-01  4.7268e-01 -2.0452e-01\n",
       " -3.6597e-02  4.0294e-02 -2.4838e-01\n",
       "[torch.cuda.FloatTensor of size 64x3x3x3 (GPU 0)]"
      ]
     },
     "execution_count": 48,
     "metadata": {},
     "output_type": "execute_result"
    }
   ],
   "source": [
    "b['vgg.0.weight']"
   ]
  },
  {
   "cell_type": "code",
   "execution_count": null,
   "metadata": {
    "collapsed": true
   },
   "outputs": [],
   "source": []
  },
  {
   "cell_type": "code",
   "execution_count": 31,
   "metadata": {
    "collapsed": false
   },
   "outputs": [
    {
     "data": {
      "text/plain": [
       "[True, True, True, True, True]"
      ]
     },
     "execution_count": 31,
     "metadata": {},
     "output_type": "execute_result"
    }
   ],
   "source": [
    "def expand_ovr(ovr,N):\n",
    "    if ovr is None:\n",
    "        ovr = [True]*N\n",
    "    elif type(ovr) is bool:\n",
    "        ovr = [ovr]*N\n",
    "    return ovr\n",
    "\n",
    "r=expand_ovr(None,5)\n",
    "r"
   ]
  },
  {
   "cell_type": "code",
   "execution_count": 28,
   "metadata": {
    "collapsed": true
   },
   "outputs": [
    {
     "data": {
      "text/plain": [
       "[True,\n",
       " True,\n",
       " True,\n",
       " True,\n",
       " True,\n",
       " True,\n",
       " True,\n",
       " True,\n",
       " True,\n",
       " True,\n",
       " True,\n",
       " True,\n",
       " True,\n",
       " True,\n",
       " True,\n",
       " True,\n",
       " True,\n",
       " True,\n",
       " True,\n",
       " True,\n",
       " True,\n",
       " True,\n",
       " True,\n",
       " True,\n",
       " True,\n",
       " True,\n",
       " True,\n",
       " True,\n",
       " True,\n",
       " True,\n",
       " True,\n",
       " True,\n",
       " True,\n",
       " True,\n",
       " True]"
      ]
     },
     "execution_count": 28,
     "metadata": {},
     "output_type": "execute_result"
    }
   ],
   "source": [
    "[True]*len(net.vgg)"
   ]
  },
  {
   "cell_type": "code",
   "execution_count": 1,
   "metadata": {
    "collapsed": false
   },
   "outputs": [
    {
     "name": "stdout",
     "output_type": "stream",
     "text": [
      "Populating the interactive namespace from numpy and matplotlib\n"
     ]
    }
   ],
   "source": [
    "%pylab inline\n",
    "import torch\n"
   ]
  },
  {
   "cell_type": "code",
   "execution_count": 3,
   "metadata": {
    "collapsed": true
   },
   "outputs": [
    {
     "data": {
      "text/plain": [
       "odict_keys(['vgg.0.weight', 'vgg.0.bias', 'vgg.2.weight', 'vgg.2.bias', 'vgg.5.weight', 'vgg.5.bias', 'vgg.7.weight', 'vgg.7.bias', 'vgg.10.weight', 'vgg.10.bias', 'vgg.12.weight', 'vgg.12.bias', 'vgg.14.weight', 'vgg.14.bias', 'vgg.17.weight', 'vgg.17.bias', 'vgg.19.weight', 'vgg.19.bias', 'vgg.21.weight', 'vgg.21.bias', 'vgg.24.weight', 'vgg.24.bias', 'vgg.26.weight', 'vgg.26.bias', 'vgg.28.weight', 'vgg.28.bias', 'vgg.31.weight', 'vgg.31.bias', 'vgg.33.weight', 'vgg.33.bias', 'L2Norm.weight', 'extras.0.weight', 'extras.0.bias', 'extras.1.weight', 'extras.1.bias', 'extras.2.weight', 'extras.2.bias', 'extras.3.weight', 'extras.3.bias', 'extras.4.weight', 'extras.4.bias', 'extras.5.weight', 'extras.5.bias', 'extras.6.weight', 'extras.6.bias', 'extras.7.weight', 'extras.7.bias', 'loc.0.weight', 'loc.0.bias', 'loc.1.weight', 'loc.1.bias', 'loc.2.weight', 'loc.2.bias', 'loc.3.weight', 'loc.3.bias', 'loc.4.weight', 'loc.4.bias', 'loc.5.weight', 'loc.5.bias', 'conf.0.weight', 'conf.0.bias', 'conf.1.weight', 'conf.1.bias', 'conf.2.weight', 'conf.2.bias', 'conf.3.weight', 'conf.3.bias', 'conf.4.weight', 'conf.4.bias', 'conf.5.weight', 'conf.5.bias', 'vgg_controllers.0.weight', 'vgg_controllers.2.weight', 'vgg_controllers.5.weight', 'vgg_controllers.7.weight', 'vgg_controllers.10.weight', 'vgg_controllers.12.weight', 'vgg_controllers.14.weight', 'vgg_controllers.17.weight', 'vgg_controllers.19.weight', 'vgg_controllers.21.weight', 'vgg_controllers.24.weight', 'vgg_controllers.26.weight', 'vgg_controllers.28.weight', 'vgg_controllers.31.weight', 'vgg_controllers.33.weight', 'extra_controllers.0.weight', 'extra_controllers.1.weight', 'extra_controllers.2.weight', 'extra_controllers.3.weight', 'extra_controllers.4.weight', 'extra_controllers.5.weight', 'extra_controllers.6.weight', 'extra_controllers.7.weight', 'loc_controllers.0.weight', 'loc_controllers.1.weight', 'loc_controllers.2.weight', 'loc_controllers.3.weight', 'loc_controllers.4.weight', 'loc_controllers.5.weight', 'conf_controllers.0.weight', 'conf_controllers.1.weight', 'conf_controllers.2.weight', 'conf_controllers.3.weight', 'conf_controllers.4.weight', 'conf_controllers.5.weight'])"
      ]
     },
     "execution_count": 3,
     "metadata": {},
     "output_type": "execute_result"
    }
   ],
   "source": [
    "net_0001 = torch.load('/home/amir/data/weights_ssd/primed_0001_hint_True/ssd300_0712_5000.pth')\n",
    "net_0001.keys()"
   ]
  },
  {
   "cell_type": "code",
   "execution_count": null,
   "metadata": {
    "collapsed": true
   },
   "outputs": [],
   "source": []
  },
  {
   "cell_type": "code",
   "execution_count": 16,
   "metadata": {
    "collapsed": true
   },
   "outputs": [
    {
     "data": {
      "text/plain": [
       "\n",
       "( 0 , 0 ,.,.) = \n",
       " -9.0504e-03 -1.0603e-02 -1.0105e-02\n",
       " -1.1908e-02 -1.4450e-02 -1.1597e-02\n",
       " -7.3027e-03 -8.4697e-03 -7.7541e-03\n",
       "\n",
       "( 0 , 1 ,.,.) = \n",
       " -5.2436e-03  5.0301e-03  1.2315e-02\n",
       " -9.2608e-04  7.7871e-03  1.5486e-02\n",
       "  3.9340e-03  1.3369e-02  1.9358e-02\n",
       "\n",
       "( 0 , 2 ,.,.) = \n",
       " -1.0596e-02 -8.3217e-03 -1.0038e-02\n",
       " -7.5487e-03 -5.4022e-03 -7.1253e-03\n",
       " -8.1308e-03 -6.0252e-03 -7.3486e-03\n",
       "    ... \n",
       "\n",
       "( 0 ,61 ,.,.) = \n",
       " -6.7547e-03 -7.0309e-03 -6.1708e-03\n",
       " -8.7539e-03 -9.1391e-03 -7.8635e-03\n",
       " -7.7927e-03 -7.6012e-03 -6.1525e-03\n",
       "\n",
       "( 0 ,62 ,.,.) = \n",
       " -1.5711e-02 -1.8092e-02 -1.5492e-02\n",
       " -1.9274e-02 -2.1333e-02 -1.8511e-02\n",
       " -1.6318e-02 -1.9843e-02 -1.6871e-02\n",
       "\n",
       "( 0 ,63 ,.,.) = \n",
       " -4.2604e-03 -3.8667e-03 -3.4502e-03\n",
       " -4.3849e-03 -3.6456e-03 -1.8849e-03\n",
       "  7.0744e-03  8.3434e-03  8.2372e-03\n",
       "      ⋮  \n",
       "\n",
       "( 1 , 0 ,.,.) = \n",
       "  3.8031e-02  3.8064e-02  1.3129e-02\n",
       " -1.8871e-02 -3.7155e-02 -2.4057e-02\n",
       " -1.5388e-02 -6.7326e-03  6.4849e-03\n",
       "\n",
       "( 1 , 1 ,.,.) = \n",
       " -2.9740e-05  5.3777e-03  7.3081e-03\n",
       " -9.2235e-03 -1.6175e-02 -1.6630e-02\n",
       " -4.5369e-03 -3.6720e-03 -3.9596e-03\n",
       "\n",
       "( 1 , 2 ,.,.) = \n",
       " -5.9682e-03 -3.1107e-03 -7.2207e-03\n",
       " -8.7769e-03 -7.1286e-03 -1.1174e-02\n",
       " -5.2320e-03 -2.0010e-03 -5.9887e-03\n",
       "    ... \n",
       "\n",
       "( 1 ,61 ,.,.) = \n",
       "  4.6875e-03  7.7377e-03  1.5176e-03\n",
       " -2.5027e-03 -5.8452e-03 -1.2589e-02\n",
       " -6.1652e-03 -8.8478e-03 -1.1336e-02\n",
       "\n",
       "( 1 ,62 ,.,.) = \n",
       "  4.9107e-03  1.5012e-02 -1.1723e-02\n",
       " -3.7666e-02 -1.2547e-02 -8.1785e-03\n",
       " -3.1018e-02 -5.1726e-02 -3.0242e-02\n",
       "\n",
       "( 1 ,63 ,.,.) = \n",
       "  2.8894e-02  3.0025e-02  2.1446e-02\n",
       " -1.1079e-02 -1.6114e-02 -7.8934e-03\n",
       "  3.5262e-02  4.0876e-02  3.9118e-02\n",
       "      ⋮  \n",
       "\n",
       "( 2 , 0 ,.,.) = \n",
       "  1.0776e-02  4.3910e-03  8.0300e-03\n",
       "  9.5148e-03  3.2614e-02  1.8831e-02\n",
       "  1.1417e-03  2.8011e-02  1.4550e-02\n",
       "\n",
       "( 2 , 1 ,.,.) = \n",
       " -2.3412e-02 -1.6635e-02 -4.0094e-03\n",
       " -1.9842e-02 -9.8926e-03 -2.2404e-03\n",
       " -1.1083e-02 -1.1163e-02 -1.3356e-02\n",
       "\n",
       "( 2 , 2 ,.,.) = \n",
       " -1.4401e-02 -1.2597e-02 -1.0894e-02\n",
       " -1.5873e-02 -1.5283e-02 -1.0752e-02\n",
       " -1.9651e-02 -2.0039e-02 -1.4560e-02\n",
       "    ... \n",
       "\n",
       "( 2 ,61 ,.,.) = \n",
       " -1.4248e-02 -1.4888e-02 -7.6023e-03\n",
       " -1.0990e-02 -9.8552e-03 -7.6297e-03\n",
       " -5.5003e-03 -5.4349e-03 -6.2556e-03\n",
       "\n",
       "( 2 ,62 ,.,.) = \n",
       "  2.9210e-02  9.1498e-03  4.7219e-03\n",
       "  5.8456e-02  4.2915e-02 -3.0556e-03\n",
       "  4.4202e-03  1.9209e-02  6.0306e-03\n",
       "\n",
       "( 2 ,63 ,.,.) = \n",
       "  1.5388e-03 -6.3216e-03 -2.2390e-02\n",
       " -4.2662e-03 -1.5971e-02 -1.2049e-02\n",
       " -9.5294e-03 -1.9520e-02 -1.2320e-02\n",
       "...     \n",
       "      ⋮  \n",
       "\n",
       "(125, 0 ,.,.) = \n",
       " -6.4820e-02 -6.1286e-02  2.4915e-02\n",
       "  4.2527e-02 -2.5344e-03  1.5125e-01\n",
       "  8.0936e-02  1.9503e-01  3.8046e-02\n",
       "\n",
       "(125, 1 ,.,.) = \n",
       " -1.7075e-03 -2.6526e-02 -1.4973e-02\n",
       "  2.7278e-02 -4.1111e-02  3.7549e-02\n",
       "  1.5498e-02  4.7790e-02 -5.5597e-04\n",
       "\n",
       "(125, 2 ,.,.) = \n",
       "  8.8469e-03  1.8814e-02 -1.3805e-03\n",
       "  1.9295e-02  1.8807e-02 -1.5264e-03\n",
       " -2.7243e-03  6.8085e-03 -1.3198e-02\n",
       "    ... \n",
       "\n",
       "(125,61 ,.,.) = \n",
       "  3.8914e-03 -4.9106e-03 -1.9071e-02\n",
       "  2.0498e-02  4.2792e-04  3.8294e-03\n",
       "  1.5407e-02  2.9255e-02 -1.0132e-02\n",
       "\n",
       "(125,62 ,.,.) = \n",
       "  1.3256e-02  1.0431e-01  5.4758e-02\n",
       " -2.8665e-02  1.1366e-01 -1.4287e-02\n",
       "  3.7096e-03 -9.5556e-02 -8.9926e-03\n",
       "\n",
       "(125,63 ,.,.) = \n",
       " -2.9829e-02 -3.8545e-02 -7.1035e-02\n",
       "  1.3775e-02  1.9811e-02 -5.5338e-02\n",
       "  8.8866e-03  8.1205e-03 -2.3788e-02\n",
       "      ⋮  \n",
       "\n",
       "(126, 0 ,.,.) = \n",
       "  2.7878e-02  3.9786e-02 -2.1246e-02\n",
       "  1.3848e-02 -8.2836e-02 -9.7425e-03\n",
       "  1.5548e-02 -6.5571e-03  1.5222e-02\n",
       "\n",
       "(126, 1 ,.,.) = \n",
       "  2.3656e-02  1.8562e-02 -2.2174e-02\n",
       "  2.2937e-02 -1.0055e-02 -4.1568e-02\n",
       "  8.9341e-03  5.0446e-03 -7.9269e-03\n",
       "\n",
       "(126, 2 ,.,.) = \n",
       " -3.0047e-03 -2.0146e-02 -2.2479e-02\n",
       "  8.8238e-03 -9.1366e-03 -1.8841e-02\n",
       "  1.9559e-02  6.5778e-03 -3.5310e-03\n",
       "    ... \n",
       "\n",
       "(126,61 ,.,.) = \n",
       "  1.2010e-02  1.6621e-02 -5.8675e-03\n",
       "  1.5612e-02 -1.4206e-03 -2.0654e-02\n",
       "  1.2833e-02  2.9501e-03 -4.9893e-03\n",
       "\n",
       "(126,62 ,.,.) = \n",
       " -4.2911e-02  2.5921e-02 -6.3372e-02\n",
       " -5.6896e-02 -2.2393e-02 -1.5534e-02\n",
       "  2.9950e-02 -2.7446e-02 -3.0572e-02\n",
       "\n",
       "(126,63 ,.,.) = \n",
       " -2.5542e-03 -6.5835e-03 -1.5744e-02\n",
       " -1.4848e-02 -1.0235e-02 -9.3242e-03\n",
       "  1.2415e-02  2.6890e-02  1.9370e-02\n",
       "      ⋮  \n",
       "\n",
       "(127, 0 ,.,.) = \n",
       " -5.6925e-02  2.9056e-02  5.8777e-02\n",
       " -6.2223e-02  9.3654e-02  8.0772e-02\n",
       " -3.8747e-02  6.4335e-03 -1.1631e-02\n",
       "\n",
       "(127, 1 ,.,.) = \n",
       " -2.7037e-02 -7.5500e-03  9.2895e-03\n",
       " -3.9186e-02 -8.9273e-03  2.6371e-02\n",
       " -2.8446e-02 -1.3313e-03  3.2989e-04\n",
       "\n",
       "(127, 2 ,.,.) = \n",
       " -2.4568e-02 -1.3226e-03 -5.7008e-03\n",
       " -2.0767e-02  6.1294e-04 -1.5444e-03\n",
       " -2.4456e-02 -3.6090e-03 -9.6213e-03\n",
       "    ... \n",
       "\n",
       "(127,61 ,.,.) = \n",
       " -1.2247e-02  1.4112e-03  8.7307e-04\n",
       " -1.8323e-02  7.3467e-03  1.0760e-02\n",
       " -1.7862e-02  4.1715e-03 -6.3819e-03\n",
       "\n",
       "(127,62 ,.,.) = \n",
       " -3.6432e-02 -2.3506e-02 -2.4521e-02\n",
       " -4.4789e-02  4.5650e-02  5.1559e-02\n",
       " -4.1467e-02  5.2471e-02  7.1414e-02\n",
       "\n",
       "(127,63 ,.,.) = \n",
       " -5.9565e-02  7.4598e-03  4.0672e-02\n",
       " -4.8780e-02  8.5935e-03  2.9620e-02\n",
       " -2.3979e-02 -2.7381e-02 -1.1645e-02\n",
       "[torch.cuda.FloatTensor of size 128x64x3x3 (GPU 0)]"
      ]
     },
     "execution_count": 16,
     "metadata": {},
     "output_type": "execute_result"
    }
   ],
   "source": [
    "net_0001['vgg.5.weight']"
   ]
  },
  {
   "cell_type": "code",
   "execution_count": 24,
   "metadata": {
    "collapsed": false
   },
   "outputs": [],
   "source": [
    "def r(x):\n",
    "    if type(x) is torch.autograd.Variable:\n",
    "        x = x.data\n",
    "    return x.cpu().numpy()\n",
    "    "
   ]
  },
  {
   "cell_type": "code",
   "execution_count": null,
   "metadata": {
    "collapsed": true
   },
   "outputs": [],
   "source": []
  },
  {
   "cell_type": "code",
   "execution_count": 71,
   "metadata": {
    "collapsed": false
   },
   "outputs": [
    {
     "data": {
      "text/plain": [
       "(126, 20)"
      ]
     },
     "execution_count": 71,
     "metadata": {},
     "output_type": "execute_result"
    }
   ],
   "source": [
    "w.shape"
   ]
  },
  {
   "cell_type": "code",
   "execution_count": 86,
   "metadata": {
    "collapsed": false
   },
   "outputs": [],
   "source": [
    "import torch\n",
    "from torch import nn\n",
    "L = nn.Linear(20,84)\n",
    "L.weight.data = net_0001['conf_controllers.0.weight'].cpu()"
   ]
  },
  {
   "cell_type": "code",
   "execution_count": 89,
   "metadata": {
    "collapsed": true
   },
   "outputs": [
    {
     "data": {
      "text/plain": [
       "Variable containing:\n",
       "\n",
       "Columns 0 to 7 \n",
       " 12.1227   0.6927   0.8228   0.8241   0.6160   0.1565   0.8951  -0.0892\n",
       "\n",
       "Columns 8 to 15 \n",
       " -1.2510   0.4570  -0.3940   0.4436   0.0393   0.6147  -0.8312   0.1967\n",
       "\n",
       "Columns 16 to 23 \n",
       "  0.4612   0.7492   0.4140  -0.6555  -0.0413  11.7096   1.3677  -0.6258\n",
       "\n",
       "Columns 24 to 31 \n",
       "  0.6833   0.9015  -0.3561   0.2705   1.1708   1.3282   0.2722   1.4161\n",
       "\n",
       "Columns 32 to 39 \n",
       "  0.6618   0.9740  -0.1848   0.3552   1.6312   1.4199   0.2843  -0.1496\n",
       "\n",
       "Columns 40 to 47 \n",
       "  1.6124   0.9083  11.9537   0.0370  -0.3446  -0.3621   0.3178  -0.5534\n",
       "\n",
       "Columns 48 to 55 \n",
       "  0.5403   0.6422   0.4434   0.5402   0.1646   1.1410   0.3057   0.2245\n",
       "\n",
       "Columns 56 to 63 \n",
       " -0.5835  -1.4263  -0.0940   0.1909  -0.6820  -0.6685   0.1796  11.3244\n",
       "\n",
       "Columns 64 to 71 \n",
       "  0.5187  -0.1699   1.3303  -0.0123   0.0511  -0.0273   1.0217   0.5156\n",
       "\n",
       "Columns 72 to 79 \n",
       "  0.8807   0.6909   0.2198   0.3221  -0.1032   0.1529   0.8981   0.1097\n",
       "\n",
       "Columns 80 to 83 \n",
       "  0.5356   0.7437   1.0137   0.2144\n",
       "[torch.FloatTensor of size 1x84]"
      ]
     },
     "execution_count": 89,
     "metadata": {},
     "output_type": "execute_result"
    }
   ],
   "source": [
    "from torch.autograd import Variable\n",
    "hint = torch.zeros(1,20)\n",
    "hint[0] = 1\n",
    "hint = Variable(hint)\n",
    "L(hint)"
   ]
  },
  {
   "cell_type": "code",
   "execution_count": 91,
   "metadata": {
    "collapsed": true
   },
   "outputs": [],
   "source": [
    "from torch.nn import functional as F"
   ]
  },
  {
   "cell_type": "code",
   "execution_count": 92,
   "metadata": {
    "collapsed": true
   },
   "outputs": [
    {
     "data": {
      "text/plain": [
       "Variable containing:\n",
       "\n",
       "Columns 0 to 9 \n",
       " 1.0000  0.6666  0.6948  0.6951  0.6493  0.5391  0.7099  0.4777  0.2225  0.6123\n",
       "\n",
       "Columns 10 to 19 \n",
       " 0.4028  0.6091  0.5098  0.6490  0.3034  0.5490  0.6133  0.6790  0.6020  0.3418\n",
       "\n",
       "Columns 20 to 29 \n",
       " 0.4897  1.0000  0.7970  0.3485  0.6645  0.7113  0.4119  0.5672  0.7633  0.7905\n",
       "\n",
       "Columns 30 to 39 \n",
       " 0.5676  0.8047  0.6597  0.7259  0.4539  0.5879  0.8363  0.8053  0.5706  0.4627\n",
       "\n",
       "Columns 40 to 49 \n",
       " 0.8337  0.7127  1.0000  0.5092  0.4147  0.4105  0.5788  0.3651  0.6319  0.6552\n",
       "\n",
       "Columns 50 to 59 \n",
       " 0.6091  0.6318  0.5410  0.7579  0.5758  0.5559  0.3581  0.1937  0.4765  0.5476\n",
       "\n",
       "Columns 60 to 69 \n",
       " 0.3358  0.3388  0.5448  1.0000  0.6269  0.4576  0.7909  0.4969  0.5128  0.4932\n",
       "\n",
       "Columns 70 to 79 \n",
       " 0.7353  0.6261  0.7070  0.6662  0.5547  0.5798  0.4742  0.5382  0.7106  0.5274\n",
       "\n",
       "Columns 80 to 83 \n",
       " 0.6308  0.6778  0.7337  0.5534\n",
       "[torch.FloatTensor of size 1x84]"
      ]
     },
     "execution_count": 92,
     "metadata": {},
     "output_type": "execute_result"
    }
   ],
   "source": [
    "F.sigmoid(L(hint))"
   ]
  },
  {
   "cell_type": "code",
   "execution_count": null,
   "metadata": {
    "collapsed": true
   },
   "outputs": [],
   "source": [
    "nn.Sigmoid()"
   ]
  },
  {
   "cell_type": "code",
   "execution_count": 72,
   "metadata": {
    "collapsed": true
   },
   "outputs": [
    {
     "data": {
      "text/plain": [
       "<matplotlib.colorbar.Colorbar at 0x7f85a2ac4e10>"
      ]
     },
     "execution_count": 72,
     "metadata": {},
     "output_type": "execute_result"
    },
    {
     "data": {
      "image/png": "[encoded data removed]",
      "text/plain": [
       "<matplotlib.figure.Figure at 0x7f85a2a53048>"
      ]
     },
     "metadata": {},
     "output_type": "display_data"
    }
   ],
   "source": [
    "net_0001 = torch.load('/home/amir/data/weights_ssd/primed_0001_hint_True/ssd300_0712_5000.pth')\n",
    "net_0001.keys()\n",
    "w=net_0001['conf_controllers.0.weight']\n",
    "w = r(w)\n",
    "import seaborn as sns\n",
    "matshow(w);colorbar()"
   ]
  },
  {
   "cell_type": "code",
   "execution_count": 18,
   "metadata": {
    "collapsed": false
   },
   "outputs": [
    {
     "data": {
      "text/plain": [
       "106"
      ]
     },
     "execution_count": 18,
     "metadata": {},
     "output_type": "execute_result"
    }
   ],
   "source": [
    "len(net_before.keys())"
   ]
  },
  {
   "cell_type": "code",
   "execution_count": 4,
   "metadata": {
    "collapsed": true
   },
   "outputs": [],
   "source": [
    "net_before = torch.load('/home/amir/data/weights_ssd/baseline/ssd300_0712_5000.pth1')"
   ]
  },
  {
   "cell_type": "code",
   "execution_count": 11,
   "metadata": {
    "collapsed": true
   },
   "outputs": [],
   "source": [
    "key = 'vgg_controllers.0.weight'\n",
    "key='conf_controllers.0.weight'"
   ]
  },
  {
   "cell_type": "code",
   "execution_count": 12,
   "metadata": {
    "collapsed": true
   },
   "outputs": [
    {
     "data": {
      "text/plain": [
       "\n",
       "-5.5860e-01 -1.8432e-01 -6.9907e-01  ...  -5.5806e-01 -7.1020e-01 -3.4965e-01\n",
       "-3.4109e-01  5.5240e-03 -5.8388e-03  ...  -9.2427e-03 -7.4473e-03 -8.9303e-03\n",
       "-1.1715e-03 -2.6989e-02 -1.1896e-02  ...   2.2110e-03 -1.3440e-02  5.3968e-04\n",
       "                ...                   ⋱                   ...                \n",
       "-6.3985e-03  4.1446e-03 -8.2526e-03  ...  -1.0570e-02  6.2853e-05 -3.2436e-03\n",
       "-1.0316e-02 -5.7349e-03 -1.5672e-02  ...   4.4534e-03 -5.0147e-02  2.4683e-03\n",
       "-1.1590e-02 -1.8694e-03 -5.9540e-03  ...   5.7201e-03  9.4000e-04 -8.3167e-02\n",
       "[torch.cuda.FloatTensor of size 84x20 (GPU 0)]"
      ]
     },
     "execution_count": 12,
     "metadata": {},
     "output_type": "execute_result"
    }
   ],
   "source": [
    "net_before[key]-net_0001[key]"
   ]
  },
  {
   "cell_type": "code",
   "execution_count": 4,
   "metadata": {
    "collapsed": false
   },
   "outputs": [
    {
     "data": {
      "application/javascript": [
       "\n",
       "IPython.keyboard_manager.edit_shortcuts.add_shortcut('ctrl-enter', {\n",
       "    help : \"run cell and keep focus\", //This is optional\n",
       "    handler : function (event) {\n",
       "        IPython.notebook.execute_cell();\n",
       "        IPython.notebook.edit_mode();\n",
       "        return false;\n",
       "    }}\n",
       ");"
      ],
      "text/plain": [
       "<IPython.core.display.Javascript object>"
      ]
     },
     "metadata": {},
     "output_type": "display_data"
    }
   ],
   "source": [
    "%%javascript\n",
    "\n",
    "IPython.keyboard_manager.edit_shortcuts.add_shortcut('ctrl-enter', {\n",
    "    help : \"run cell and keep focus\", //This is optional\n",
    "    handler : function (event) {\n",
    "        IPython.notebook.execute_cell();\n",
    "        IPython.notebook.edit_mode();\n",
    "        return false;\n",
    "    }}\n",
    ");\n"
   ]
  },
  {
   "cell_type": "code",
   "execution_count": 4,
   "metadata": {
    "collapsed": true
   },
   "outputs": [],
   "source": [
    "\n"
   ]
  },
  {
   "cell_type": "code",
   "execution_count": 10,
   "metadata": {
    "collapsed": true
   },
   "outputs": [
    {
     "data": {
      "text/plain": [
       "\n",
       "(0 ,.,.) = \n",
       "  0.4093  0.1204  0.4240  ...   0.2221  0.3997  0.4161\n",
       "  0.4330  0.0621  0.2761  ...   0.1486  0.1914  0.4125\n",
       "  0.1971  0.4387  0.1989  ...   0.1378  0.2234  0.3766\n",
       "           ...             ⋱             ...          \n",
       "  0.0278  0.1689  0.1042  ...   0.3384  0.3423  0.4402\n",
       "  0.2765  0.0212  0.2735  ...   0.1930  0.3162  0.1164\n",
       "  0.2719  0.4563  0.0859  ...   0.4174  0.1330  0.0721\n",
       "\n",
       "(1 ,.,.) = \n",
       "  0.3169  0.1318  0.0387  ...   0.0272  0.1838  0.0704\n",
       "  0.0769  0.2653  0.3136  ...   0.2503  0.0772  0.1282\n",
       "  0.0141  0.2169  0.3397  ...   0.2383  0.2382  0.0960\n",
       "           ...             ⋱             ...          \n",
       "  0.1377  0.2903  0.0449  ...   0.0975  0.0048  0.0213\n",
       "  0.2795  0.2017  0.2126  ...   0.1310  0.2544  0.2900\n",
       "  0.2587  0.0514  0.0208  ...   0.1851  0.2606  0.2063\n",
       "\n",
       "(2 ,.,.) = \n",
       "  0.1095  0.2440  0.2512  ...   0.1162  0.1126  0.0477\n",
       "  0.1732  0.2004  0.1983  ...   0.1569  0.1379  0.1175\n",
       "  0.0763  0.0210  0.1606  ...   0.0208  0.0999  0.2465\n",
       "           ...             ⋱             ...          \n",
       "  0.2585  0.0518  0.1536  ...   0.2471  0.2591  0.1526\n",
       "  0.0284  0.0633  0.0274  ...   0.2236  0.1834  0.1607\n",
       "  0.1180  0.1365  0.0607  ...   0.0136  0.0271  0.0814\n",
       "[torch.FloatTensor of size 3x64x64]"
      ]
     },
     "execution_count": 10,
     "metadata": {},
     "output_type": "execute_result"
    }
   ],
   "source": [
    "import torch\n",
    "W,H=64,64\n",
    "I = torch.rand(3,W,H)\n",
    "v = torch.rand(3,1)\n",
    "v=v.unsqueeze(2)\n",
    "I1 = I * v\n"
   ]
  },
  {
   "cell_type": "code",
   "execution_count": 7,
   "metadata": {
    "collapsed": false
   },
   "outputs": [
    {
     "ename": "NameError",
     "evalue": "name 'item' is not defined",
     "output_type": "error",
     "traceback": [
      "\u001b[0;31m---------------------------------------------------------------------------\u001b[0m",
      "\u001b[0;31mNameError\u001b[0m                                 Traceback (most recent call last)",
      "\u001b[0;32m<ipython-input-7-f92e1e7d789d>\u001b[0m in \u001b[0;36m<module>\u001b[0;34m()\u001b[0m\n\u001b[0;32m----> 1\u001b[0;31m \u001b[0mitem\u001b[0m\u001b[0;34m[\u001b[0m\u001b[0;36m0\u001b[0m\u001b[0;34m]\u001b[0m\u001b[0;34m\u001b[0m\u001b[0m\n\u001b[0m",
      "\u001b[0;31mNameError\u001b[0m: name 'item' is not defined"
     ]
    }
   ],
   "source": [
    "item[0]"
   ]
  },
  {
   "cell_type": "code",
   "execution_count": 13,
   "metadata": {
    "collapsed": false
   },
   "outputs": [
    {
     "data": {
      "text/plain": [
       "collections.OrderedDict"
      ]
     },
     "execution_count": 13,
     "metadata": {},
     "output_type": "execute_result"
    }
   ],
   "source": [
    "type(a)"
   ]
  },
  {
   "cell_type": "code",
   "execution_count": 15,
   "metadata": {
    "collapsed": false
   },
   "outputs": [
    {
     "ename": "KeyError",
     "evalue": "0",
     "output_type": "error",
     "traceback": [
      "\u001b[0;31m---------------------------------------------------------------------------\u001b[0m",
      "\u001b[0;31mKeyError\u001b[0m                                  Traceback (most recent call last)",
      "\u001b[0;32m<ipython-input-15-cb4c8c34ba27>\u001b[0m in \u001b[0;36m<module>\u001b[0;34m()\u001b[0m\n\u001b[0;32m----> 1\u001b[0;31m \u001b[0mnet\u001b[0m\u001b[0;34m[\u001b[0m\u001b[0ma\u001b[0m\u001b[0;34m[\u001b[0m\u001b[0;36m0\u001b[0m\u001b[0;34m]\u001b[0m\u001b[0;34m]\u001b[0m\u001b[0;34m\u001b[0m\u001b[0m\n\u001b[0m",
      "\u001b[0;31mKeyError\u001b[0m: 0"
     ]
    }
   ],
   "source": []
  },
  {
   "cell_type": "code",
   "execution_count": 11,
   "metadata": {
    "collapsed": false
   },
   "outputs": [
    {
     "ename": "AttributeError",
     "evalue": "'collections.OrderedDict' object has no attribute 'iteritems'",
     "output_type": "error",
     "traceback": [
      "\u001b[0;31m---------------------------------------------------------------------------\u001b[0m",
      "\u001b[0;31mAttributeError\u001b[0m                            Traceback (most recent call last)",
      "\u001b[0;32m<ipython-input-11-e85d90408f36>\u001b[0m in \u001b[0;36m<module>\u001b[0;34m()\u001b[0m\n\u001b[0;32m----> 1\u001b[0;31m \u001b[0;32mfor\u001b[0m \u001b[0mk\u001b[0m\u001b[0;34m,\u001b[0m\u001b[0mv\u001b[0m \u001b[0;32min\u001b[0m \u001b[0ma\u001b[0m\u001b[0;34m.\u001b[0m\u001b[0miteritems\u001b[0m\u001b[0;34m(\u001b[0m\u001b[0;34m)\u001b[0m\u001b[0;34m:\u001b[0m\u001b[0;34m\u001b[0m\u001b[0m\n\u001b[0m\u001b[1;32m      2\u001b[0m     \u001b[0;32mbreak\u001b[0m\u001b[0;34m\u001b[0m\u001b[0m\n",
      "\u001b[0;31mAttributeError\u001b[0m: 'collections.OrderedDict' object has no attribute 'iteritems'"
     ]
    }
   ],
   "source": [
    "for k,v in a.():\n",
    "    break"
   ]
  },
  {
   "cell_type": "markdown",
   "metadata": {},
   "source": [
    "## Load Image \n",
    "### Here we just load a sample image from the VOC07 dataset "
   ]
  },
  {
   "cell_type": "code",
   "execution_count": 7,
   "metadata": {
    "collapsed": false
   },
   "outputs": [
    {
     "data": {
      "text/plain": [
       "'/home/amir/data/VOCdevkit/'"
      ]
     },
     "execution_count": 7,
     "metadata": {},
     "output_type": "execute_result"
    }
   ],
   "source": []
  },
  {
   "cell_type": "code",
   "execution_count": 20,
   "metadata": {
    "collapsed": true
   },
   "outputs": [
    {
     "data": {
      "text/plain": [
       "[('/home/amir/code/jacky/VOC2007', '000068'),\n",
       " ('/home/amir/code/jacky/VOC2007', '000069'),\n",
       " ('/home/amir/code/jacky/VOC2007', '000007'),\n",
       " ('/home/amir/code/jacky/VOC2007', '000070'),\n",
       " ('/home/amir/code/jacky/VOC2007', '000071'),\n",
       " ('/home/amir/code/jacky/VOC2007', '000072'),\n",
       " ('/home/amir/code/jacky/VOC2007', '000073'),\n",
       " ('/home/amir/code/jacky/VOC2007', '000074'),\n",
       " ('/home/amir/code/jacky/VOC2007', '000075'),\n",
       " ('/home/amir/code/jacky/VOC2007', '000076'),\n",
       " ('/home/amir/code/jacky/VOC2007', '000077'),\n",
       " ('/home/amir/code/jacky/VOC2007', '000078'),\n",
       " ('/home/amir/code/jacky/VOC2007', '000079'),\n",
       " ('/home/amir/code/jacky/VOC2007', '000008'),\n",
       " ('/home/amir/code/jacky/VOC2007', '000080'),\n",
       " ('/home/amir/code/jacky/VOC2007', '000009'),\n",
       " ('/home/amir/code/jacky/VOC2007', '000545'),\n",
       " ('/home/amir/code/jacky/VOC2007', '000546'),\n",
       " ('/home/amir/code/jacky/VOC2007', '000547'),\n",
       " ('/home/amir/code/jacky/VOC2007', '000548'),\n",
       " ('/home/amir/code/jacky/VOC2007', '000549'),\n",
       " ('/home/amir/code/jacky/VOC2007', '000550'),\n",
       " ('/home/amir/code/jacky/VOC2007', '000551'),\n",
       " ('/home/amir/code/jacky/VOC2007', '000552'),\n",
       " ('/home/amir/code/jacky/VOC2007', '000553'),\n",
       " ('/home/amir/code/jacky/VOC2007', '000554'),\n",
       " ('/home/amir/code/jacky/VOC2007', '000555'),\n",
       " ('/home/amir/code/jacky/VOC2007', '000556'),\n",
       " ('/home/amir/code/jacky/VOC2007', '000557'),\n",
       " ('/home/amir/code/jacky/VOC2007', '000558'),\n",
       " ('/home/amir/code/jacky/VOC2007', '000559'),\n",
       " ('/home/amir/code/jacky/VOC2007', '000560'),\n",
       " ('/home/amir/code/jacky/VOC2007', '001505'),\n",
       " ('/home/amir/code/jacky/VOC2007', '001506'),\n",
       " ('/home/amir/code/jacky/VOC2007', '001507'),\n",
       " ('/home/amir/code/jacky/VOC2007', '001508'),\n",
       " ('/home/amir/code/jacky/VOC2007', '001509'),\n",
       " ('/home/amir/code/jacky/VOC2007', '001510'),\n",
       " ('/home/amir/code/jacky/VOC2007', '001511'),\n",
       " ('/home/amir/code/jacky/VOC2007', '001512'),\n",
       " ('/home/amir/code/jacky/VOC2007', '001513'),\n",
       " ('/home/amir/code/jacky/VOC2007', '001514'),\n",
       " ('/home/amir/code/jacky/VOC2007', '001515'),\n",
       " ('/home/amir/code/jacky/VOC2007', '001516'),\n",
       " ('/home/amir/code/jacky/VOC2007', '001517'),\n",
       " ('/home/amir/code/jacky/VOC2007', '001518'),\n",
       " ('/home/amir/code/jacky/VOC2007', '001519'),\n",
       " ('/home/amir/code/jacky/VOC2007', '001520'),\n",
       " ('/home/amir/code/jacky/VOC2007', '001745'),\n",
       " ('/home/amir/code/jacky/VOC2007', '001746'),\n",
       " ('/home/amir/code/jacky/VOC2007', '001747'),\n",
       " ('/home/amir/code/jacky/VOC2007', '001748'),\n",
       " ('/home/amir/code/jacky/VOC2007', '001749'),\n",
       " ('/home/amir/code/jacky/VOC2007', '001750'),\n",
       " ('/home/amir/code/jacky/VOC2007', '001751'),\n",
       " ('/home/amir/code/jacky/VOC2007', '001752'),\n",
       " ('/home/amir/code/jacky/VOC2007', '001753'),\n",
       " ('/home/amir/code/jacky/VOC2007', '001754'),\n",
       " ('/home/amir/code/jacky/VOC2007', '001755'),\n",
       " ('/home/amir/code/jacky/VOC2007', '001756'),\n",
       " ('/home/amir/code/jacky/VOC2007', '001757'),\n",
       " ('/home/amir/code/jacky/VOC2007', '001758'),\n",
       " ('/home/amir/code/jacky/VOC2007', '001759'),\n",
       " ('/home/amir/code/jacky/VOC2007', '001760'),\n",
       " ('/home/amir/code/jacky/VOC2007', '002705'),\n",
       " ('/home/amir/code/jacky/VOC2007', '002706'),\n",
       " ('/home/amir/code/jacky/VOC2007', '002707'),\n",
       " ('/home/amir/code/jacky/VOC2007', '002708'),\n",
       " ('/home/amir/code/jacky/VOC2007', '002709'),\n",
       " ('/home/amir/code/jacky/VOC2007', '002710'),\n",
       " ('/home/amir/code/jacky/VOC2007', '002711'),\n",
       " ('/home/amir/code/jacky/VOC2007', '002712'),\n",
       " ('/home/amir/code/jacky/VOC2007', '002713'),\n",
       " ('/home/amir/code/jacky/VOC2007', '002714'),\n",
       " ('/home/amir/code/jacky/VOC2007', '002715'),\n",
       " ('/home/amir/code/jacky/VOC2007', '002716'),\n",
       " ('/home/amir/code/jacky/VOC2007', '002717'),\n",
       " ('/home/amir/code/jacky/VOC2007', '002718'),\n",
       " ('/home/amir/code/jacky/VOC2007', '002719'),\n",
       " ('/home/amir/code/jacky/VOC2007', '002720'),\n",
       " ('/home/amir/code/jacky/VOC2007', '003905'),\n",
       " ('/home/amir/code/jacky/VOC2007', '003906'),\n",
       " ('/home/amir/code/jacky/VOC2007', '003907'),\n",
       " ('/home/amir/code/jacky/VOC2007', '003908'),\n",
       " ('/home/amir/code/jacky/VOC2007', '003909'),\n",
       " ('/home/amir/code/jacky/VOC2007', '003910'),\n",
       " ('/home/amir/code/jacky/VOC2007', '003911'),\n",
       " ('/home/amir/code/jacky/VOC2007', '003912'),\n",
       " ('/home/amir/code/jacky/VOC2007', '003913'),\n",
       " ('/home/amir/code/jacky/VOC2007', '003914'),\n",
       " ('/home/amir/code/jacky/VOC2007', '003915'),\n",
       " ('/home/amir/code/jacky/VOC2007', '003916'),\n",
       " ('/home/amir/code/jacky/VOC2007', '003917'),\n",
       " ('/home/amir/code/jacky/VOC2007', '003918'),\n",
       " ('/home/amir/code/jacky/VOC2007', '003919'),\n",
       " ('/home/amir/code/jacky/VOC2007', '003920'),\n",
       " ('/home/amir/code/jacky/VOC2007', '004065'),\n",
       " ('/home/amir/code/jacky/VOC2007', '004066'),\n",
       " ('/home/amir/code/jacky/VOC2007', '004067'),\n",
       " ('/home/amir/code/jacky/VOC2007', '004068'),\n",
       " ('/home/amir/code/jacky/VOC2007', '004069'),\n",
       " ('/home/amir/code/jacky/VOC2007', '004070'),\n",
       " ('/home/amir/code/jacky/VOC2007', '004071'),\n",
       " ('/home/amir/code/jacky/VOC2007', '004072'),\n",
       " ('/home/amir/code/jacky/VOC2007', '004073'),\n",
       " ('/home/amir/code/jacky/VOC2007', '004074'),\n",
       " ('/home/amir/code/jacky/VOC2007', '004075'),\n",
       " ('/home/amir/code/jacky/VOC2007', '004076'),\n",
       " ('/home/amir/code/jacky/VOC2007', '004077'),\n",
       " ('/home/amir/code/jacky/VOC2007', '004078'),\n",
       " ('/home/amir/code/jacky/VOC2007', '004079'),\n",
       " ('/home/amir/code/jacky/VOC2007', '004080'),\n",
       " ('/home/amir/code/jacky/VOC2007', '004785'),\n",
       " ('/home/amir/code/jacky/VOC2007', '004786'),\n",
       " ('/home/amir/code/jacky/VOC2007', '004787'),\n",
       " ('/home/amir/code/jacky/VOC2007', '004788'),\n",
       " ('/home/amir/code/jacky/VOC2007', '004789'),\n",
       " ('/home/amir/code/jacky/VOC2007', '004790'),\n",
       " ('/home/amir/code/jacky/VOC2007', '004791'),\n",
       " ('/home/amir/code/jacky/VOC2007', '004792'),\n",
       " ('/home/amir/code/jacky/VOC2007', '004793'),\n",
       " ('/home/amir/code/jacky/VOC2007', '004794'),\n",
       " ('/home/amir/code/jacky/VOC2007', '004795'),\n",
       " ('/home/amir/code/jacky/VOC2007', '004796'),\n",
       " ('/home/amir/code/jacky/VOC2007', '004797'),\n",
       " ('/home/amir/code/jacky/VOC2007', '004798'),\n",
       " ('/home/amir/code/jacky/VOC2007', '004799'),\n",
       " ('/home/amir/code/jacky/VOC2007', '004800'),\n",
       " ('/home/amir/code/jacky/VOC2007', '005345'),\n",
       " ('/home/amir/code/jacky/VOC2007', '005346'),\n",
       " ('/home/amir/code/jacky/VOC2007', '005347'),\n",
       " ('/home/amir/code/jacky/VOC2007', '005348'),\n",
       " ('/home/amir/code/jacky/VOC2007', '005349'),\n",
       " ('/home/amir/code/jacky/VOC2007', '005350'),\n",
       " ('/home/amir/code/jacky/VOC2007', '005351'),\n",
       " ('/home/amir/code/jacky/VOC2007', '005352'),\n",
       " ('/home/amir/code/jacky/VOC2007', '005353'),\n",
       " ('/home/amir/code/jacky/VOC2007', '005354'),\n",
       " ('/home/amir/code/jacky/VOC2007', '005355'),\n",
       " ('/home/amir/code/jacky/VOC2007', '005356'),\n",
       " ('/home/amir/code/jacky/VOC2007', '005357'),\n",
       " ('/home/amir/code/jacky/VOC2007', '005358'),\n",
       " ('/home/amir/code/jacky/VOC2007', '005359'),\n",
       " ('/home/amir/code/jacky/VOC2007', '005360'),\n",
       " ('/home/amir/code/jacky/VOC2007', '008545'),\n",
       " ('/home/amir/code/jacky/VOC2007', '008546'),\n",
       " ('/home/amir/code/jacky/VOC2007', '008547'),\n",
       " ('/home/amir/code/jacky/VOC2007', '008548'),\n",
       " ('/home/amir/code/jacky/VOC2007', '008549'),\n",
       " ('/home/amir/code/jacky/VOC2007', '008550'),\n",
       " ('/home/amir/code/jacky/VOC2007', '008551'),\n",
       " ('/home/amir/code/jacky/VOC2007', '008552'),\n",
       " ('/home/amir/code/jacky/VOC2007', '008553'),\n",
       " ('/home/amir/code/jacky/VOC2007', '008554'),\n",
       " ('/home/amir/code/jacky/VOC2007', '008555'),\n",
       " ('/home/amir/code/jacky/VOC2007', '008556'),\n",
       " ('/home/amir/code/jacky/VOC2007', '008557'),\n",
       " ('/home/amir/code/jacky/VOC2007', '008558'),\n",
       " ('/home/amir/code/jacky/VOC2007', '008559'),\n",
       " ('/home/amir/code/jacky/VOC2007', '008560'),\n",
       " ('/home/amir/code/jacky/VOC2007', '010785'),\n",
       " ('/home/amir/code/jacky/VOC2007', '010786'),\n",
       " ('/home/amir/code/jacky/VOC2007', '010787'),\n",
       " ('/home/amir/code/jacky/VOC2007', '010788'),\n",
       " ('/home/amir/code/jacky/VOC2007', '010789'),\n",
       " ('/home/amir/code/jacky/VOC2007', '010790'),\n",
       " ('/home/amir/code/jacky/VOC2007', '010791'),\n",
       " ('/home/amir/code/jacky/VOC2007', '010792'),\n",
       " ('/home/amir/code/jacky/VOC2007', '010793'),\n",
       " ('/home/amir/code/jacky/VOC2007', '010794'),\n",
       " ('/home/amir/code/jacky/VOC2007', '010795'),\n",
       " ('/home/amir/code/jacky/VOC2007', '010796'),\n",
       " ('/home/amir/code/jacky/VOC2007', '010797'),\n",
       " ('/home/amir/code/jacky/VOC2007', '010798'),\n",
       " ('/home/amir/code/jacky/VOC2007', '010799'),\n",
       " ('/home/amir/code/jacky/VOC2007', '010800'),\n",
       " ('/home/amir/code/jacky/VOC2007', '011825'),\n",
       " ('/home/amir/code/jacky/VOC2007', '011826'),\n",
       " ('/home/amir/code/jacky/VOC2007', '011827'),\n",
       " ('/home/amir/code/jacky/VOC2007', '011828'),\n",
       " ('/home/amir/code/jacky/VOC2007', '011829'),\n",
       " ('/home/amir/code/jacky/VOC2007', '011830'),\n",
       " ('/home/amir/code/jacky/VOC2007', '011831'),\n",
       " ('/home/amir/code/jacky/VOC2007', '011832'),\n",
       " ('/home/amir/code/jacky/VOC2007', '011833'),\n",
       " ('/home/amir/code/jacky/VOC2007', '011834'),\n",
       " ('/home/amir/code/jacky/VOC2007', '011835'),\n",
       " ('/home/amir/code/jacky/VOC2007', '011836'),\n",
       " ('/home/amir/code/jacky/VOC2007', '011837'),\n",
       " ('/home/amir/code/jacky/VOC2007', '011838'),\n",
       " ('/home/amir/code/jacky/VOC2007', '011839'),\n",
       " ('/home/amir/code/jacky/VOC2007', '011840'),\n",
       " ('/home/amir/code/jacky/VOC2007', '012225'),\n",
       " ('/home/amir/code/jacky/VOC2007', '012226'),\n",
       " ('/home/amir/code/jacky/VOC2007', '012227'),\n",
       " ('/home/amir/code/jacky/VOC2007', '012228'),\n",
       " ('/home/amir/code/jacky/VOC2007', '012229'),\n",
       " ('/home/amir/code/jacky/VOC2007', '012230'),\n",
       " ('/home/amir/code/jacky/VOC2007', '012231'),\n",
       " ('/home/amir/code/jacky/VOC2007', '012232'),\n",
       " ('/home/amir/code/jacky/VOC2007', '012233'),\n",
       " ('/home/amir/code/jacky/VOC2007', '012234'),\n",
       " ('/home/amir/code/jacky/VOC2007', '012235'),\n",
       " ('/home/amir/code/jacky/VOC2007', '012236'),\n",
       " ('/home/amir/code/jacky/VOC2007', '012237'),\n",
       " ('/home/amir/code/jacky/VOC2007', '012238'),\n",
       " ('/home/amir/code/jacky/VOC2007', '012239'),\n",
       " ('/home/amir/code/jacky/VOC2007', '012240'),\n",
       " ('/home/amir/code/jacky/VOC2007', '012865'),\n",
       " ('/home/amir/code/jacky/VOC2007', '012866'),\n",
       " ('/home/amir/code/jacky/VOC2007', '012867'),\n",
       " ('/home/amir/code/jacky/VOC2007', '012868'),\n",
       " ('/home/amir/code/jacky/VOC2007', '012869'),\n",
       " ('/home/amir/code/jacky/VOC2007', '012870'),\n",
       " ('/home/amir/code/jacky/VOC2007', '012871'),\n",
       " ('/home/amir/code/jacky/VOC2007', '012872'),\n",
       " ('/home/amir/code/jacky/VOC2007', '012873'),\n",
       " ('/home/amir/code/jacky/VOC2007', '012874'),\n",
       " ('/home/amir/code/jacky/VOC2007', '012875'),\n",
       " ('/home/amir/code/jacky/VOC2007', '012876'),\n",
       " ('/home/amir/code/jacky/VOC2007', '012877'),\n",
       " ('/home/amir/code/jacky/VOC2007', '012878'),\n",
       " ('/home/amir/code/jacky/VOC2007', '012879'),\n",
       " ('/home/amir/code/jacky/VOC2007', '012880'),\n",
       " ('/home/amir/code/jacky/VOC2007', '014865'),\n",
       " ('/home/amir/code/jacky/VOC2007', '014866'),\n",
       " ('/home/amir/code/jacky/VOC2007', '014867'),\n",
       " ('/home/amir/code/jacky/VOC2007', '014868'),\n",
       " ('/home/amir/code/jacky/VOC2007', '014869'),\n",
       " ('/home/amir/code/jacky/VOC2007', '014870'),\n",
       " ('/home/amir/code/jacky/VOC2007', '014871'),\n",
       " ('/home/amir/code/jacky/VOC2007', '014872'),\n",
       " ('/home/amir/code/jacky/VOC2007', '014873'),\n",
       " ('/home/amir/code/jacky/VOC2007', '014874'),\n",
       " ('/home/amir/code/jacky/VOC2007', '014875'),\n",
       " ('/home/amir/code/jacky/VOC2007', '014876'),\n",
       " ('/home/amir/code/jacky/VOC2007', '014877'),\n",
       " ('/home/amir/code/jacky/VOC2007', '014878'),\n",
       " ('/home/amir/code/jacky/VOC2007', '014879'),\n",
       " ('/home/amir/code/jacky/VOC2007', '014880'),\n",
       " ('/home/amir/code/jacky/VOC2007', '014945'),\n",
       " ('/home/amir/code/jacky/VOC2007', '014946'),\n",
       " ('/home/amir/code/jacky/VOC2007', '014947'),\n",
       " ('/home/amir/code/jacky/VOC2007', '014948'),\n",
       " ('/home/amir/code/jacky/VOC2007', '014949'),\n",
       " ('/home/amir/code/jacky/VOC2007', '014950'),\n",
       " ('/home/amir/code/jacky/VOC2007', '014951'),\n",
       " ('/home/amir/code/jacky/VOC2007', '014952'),\n",
       " ('/home/amir/code/jacky/VOC2007', '014953'),\n",
       " ('/home/amir/code/jacky/VOC2007', '014954'),\n",
       " ('/home/amir/code/jacky/VOC2007', '014955'),\n",
       " ('/home/amir/code/jacky/VOC2007', '014956'),\n",
       " ('/home/amir/code/jacky/VOC2007', '014957'),\n",
       " ('/home/amir/code/jacky/VOC2007', '014958'),\n",
       " ('/home/amir/code/jacky/VOC2007', '014959'),\n",
       " ('/home/amir/code/jacky/VOC2007', '014960'),\n",
       " ('/home/amir/code/jacky/VOC2007', '017265'),\n",
       " ('/home/amir/code/jacky/VOC2007', '017266'),\n",
       " ('/home/amir/code/jacky/VOC2007', '017267'),\n",
       " ('/home/amir/code/jacky/VOC2007', '017268'),\n",
       " ('/home/amir/code/jacky/VOC2007', '017269'),\n",
       " ('/home/amir/code/jacky/VOC2007', '017270'),\n",
       " ('/home/amir/code/jacky/VOC2007', '017271'),\n",
       " ('/home/amir/code/jacky/VOC2007', '017272'),\n",
       " ('/home/amir/code/jacky/VOC2007', '017273'),\n",
       " ('/home/amir/code/jacky/VOC2007', '017274'),\n",
       " ('/home/amir/code/jacky/VOC2007', '017275'),\n",
       " ('/home/amir/code/jacky/VOC2007', '017276'),\n",
       " ('/home/amir/code/jacky/VOC2007', '017277'),\n",
       " ('/home/amir/code/jacky/VOC2007', '017278'),\n",
       " ('/home/amir/code/jacky/VOC2007', '017279'),\n",
       " ('/home/amir/code/jacky/VOC2007', '017280'),\n",
       " ('/home/amir/code/jacky/VOC2007', '018545'),\n",
       " ('/home/amir/code/jacky/VOC2007', '018546'),\n",
       " ('/home/amir/code/jacky/VOC2007', '018547'),\n",
       " ('/home/amir/code/jacky/VOC2007', '018548'),\n",
       " ('/home/amir/code/jacky/VOC2007', '018549'),\n",
       " ('/home/amir/code/jacky/VOC2007', '018550'),\n",
       " ('/home/amir/code/jacky/VOC2007', '018551'),\n",
       " ('/home/amir/code/jacky/VOC2007', '018552'),\n",
       " ('/home/amir/code/jacky/VOC2007', '018553'),\n",
       " ('/home/amir/code/jacky/VOC2007', '018554'),\n",
       " ('/home/amir/code/jacky/VOC2007', '018555'),\n",
       " ('/home/amir/code/jacky/VOC2007', '018556'),\n",
       " ('/home/amir/code/jacky/VOC2007', '018557'),\n",
       " ('/home/amir/code/jacky/VOC2007', '018558'),\n",
       " ('/home/amir/code/jacky/VOC2007', '018559'),\n",
       " ('/home/amir/code/jacky/VOC2007', '018560'),\n",
       " ('/home/amir/code/jacky/VOC2007', '019025'),\n",
       " ('/home/amir/code/jacky/VOC2007', '019026'),\n",
       " ('/home/amir/code/jacky/VOC2007', '019027'),\n",
       " ('/home/amir/code/jacky/VOC2007', '019028'),\n",
       " ('/home/amir/code/jacky/VOC2007', '019029'),\n",
       " ('/home/amir/code/jacky/VOC2007', '019030'),\n",
       " ('/home/amir/code/jacky/VOC2007', '019031'),\n",
       " ('/home/amir/code/jacky/VOC2007', '019032'),\n",
       " ('/home/amir/code/jacky/VOC2007', '019033'),\n",
       " ('/home/amir/code/jacky/VOC2007', '019034'),\n",
       " ('/home/amir/code/jacky/VOC2007', '019035'),\n",
       " ('/home/amir/code/jacky/VOC2007', '019036'),\n",
       " ('/home/amir/code/jacky/VOC2007', '019037'),\n",
       " ('/home/amir/code/jacky/VOC2007', '019038'),\n",
       " ('/home/amir/code/jacky/VOC2007', '019039'),\n",
       " ('/home/amir/code/jacky/VOC2007', '019040')]"
      ]
     },
     "execution_count": 20,
     "metadata": {},
     "output_type": "execute_result"
    }
   ],
   "source": [
    "testset.ids"
   ]
  },
  {
   "cell_type": "code",
   "execution_count": 51,
   "metadata": {
    "collapsed": true
   },
   "outputs": [
    {
     "data": {
      "image/png": "[encoded data removed]",
      "text/plain": [
       "<matplotlib.figure.Figure at 0x7f66841e5198>"
      ]
     },
     "metadata": {},
     "output_type": "display_data"
    }
   ],
   "source": [
    "# image = cv2.imread('./data/example.jpg', cv2.IMREAD_COLOR)  # uncomment if dataset not downloaded\n",
    "%matplotlib inline\n",
    "from matplotlib import pyplot as plt\n",
    "from data import VOCDetection, VOCroot, AnnotationTransform\n",
    "VOCroot = '/home/amir/code/jacky/'\n",
    "# here we specify year (07 or 12) and dataset ('test', 'val', 'train') \n",
    "testset = VOCDetection(VOCroot, [('2007', 'test')], None, AnnotationTransform)\n",
    "img_id = 100\n",
    "\n",
    "\n",
    "image = cv2.imread('/home/amir/code/jacky/sketch_jacky/armchair/481.jpg')\n",
    "#image = testset.pull_image(img_id)\n",
    "#image = 1-cv2.imread('/home/amir/data/sketch/airplane/10.png')\n",
    "\n",
    "rgb_image = cv2.cvtColor(image, cv2.COLOR_BGR2RGB)\n",
    "# View the sampled input image before transform\n",
    "plt.figure(figsize=(10,10))\n",
    "plt.imshow(rgb_image)\n",
    "plt.show()"
   ]
  },
  {
   "cell_type": "markdown",
   "metadata": {},
   "source": [
    "## Pre-process the input.  \n",
    "#### Using the torchvision package, we can create a Compose of multiple built-in transorm ops to apply \n",
    "For SSD, at test time we use a custom BaseTransform callable to\n",
    "resize our image to 300x300, subtract the dataset's mean rgb values, \n",
    "and swap the color channels for input to SSD300."
   ]
  },
  {
   "cell_type": "code",
   "execution_count": null,
   "metadata": {
    "collapsed": true
   },
   "outputs": [],
   "source": [
    "cv2.imro"
   ]
  },
  {
   "cell_type": "code",
   "execution_count": 53,
   "metadata": {
    "collapsed": false
   },
   "outputs": [
    {
     "data": {
      "image/png": "[encoded data removed]",
      "text/plain": [
       "<matplotlib.figure.Figure at 0x7f668e122940>"
      ]
     },
     "metadata": {},
     "output_type": "display_data"
    }
   ],
   "source": [
    "x = cv2.resize(image, (300, 300)).astype(np.float32)\n",
    "x -= (104.0, 117.0, 123.0)\n",
    "x = x.astype(np.float32)\n",
    "x = x[:, :, ::-1].copy()\n",
    "plt.imshow(x)\n",
    "x = torch.from_numpy(x).permute(2, 0, 1)"
   ]
  },
  {
   "cell_type": "markdown",
   "metadata": {},
   "source": [
    "## SSD Forward Pass\n",
    "### Now just wrap the image in a Variable so it is recognized by PyTorch autograd"
   ]
  },
  {
   "cell_type": "code",
   "execution_count": 54,
   "metadata": {
    "collapsed": false,
    "scrolled": true
   },
   "outputs": [],
   "source": [
    "xx = Variable(x.unsqueeze(0))     # wrap tensor in Variable\n",
    "if torch.cuda.is_available():\n",
    "    xx = xx.cuda()\n",
    "y = net(xx)"
   ]
  },
  {
   "cell_type": "markdown",
   "metadata": {},
   "source": [
    "## Parse the Detections and View Results\n",
    "Filter outputs with confidence scores lower than a threshold \n",
    "Here we choose 60% "
   ]
  },
  {
   "cell_type": "code",
   "execution_count": 55,
   "metadata": {
    "collapsed": false
   },
   "outputs": [
    {
     "name": "stderr",
     "output_type": "stream",
     "text": [
      "/home/amir/anaconda3/envs/pt3/lib/python3.5/site-packages/torch/tensor.py:309: UserWarning: self and other not broadcastable, but have the same number of elements.  Falling back to deprecated pointwise behavior.\n",
      "  return self.mul(other)\n"
     ]
    },
    {
     "data": {
      "image/png": "[encoded data removed]",
      "text/plain": [
       "<matplotlib.figure.Figure at 0x7f66783515c0>"
      ]
     },
     "metadata": {},
     "output_type": "display_data"
    }
   ],
   "source": [
    "from data import VOC_CLASSES as labels\n",
    "top_k=10\n",
    "\n",
    "plt.figure(figsize=(10,10))\n",
    "colors = plt.cm.hsv(np.linspace(0, 1, 21)).tolist()\n",
    "plt.imshow(rgb_image)  # plot the image for matplotlib\n",
    "currentAxis = plt.gca()\n",
    "\n",
    "detections = y.data\n",
    "# scale each detection back up to the image\n",
    "scale = torch.Tensor([rgb_image.shape[1::-1], rgb_image.shape[1::-1]])\n",
    "for i in range(detections.size(1)):\n",
    "    j = 0\n",
    "    while detections[0,i,j,0] >= 0.6:\n",
    "        score = detections[0,i,j,0]\n",
    "        label_name = labels[i-1]\n",
    "        display_txt = '%s: %.2f'%(label_name, score)\n",
    "        pt = (detections[0,i,j,1:]*scale).cpu().numpy()\n",
    "        coords = (pt[0], pt[1]), pt[2]-pt[0]+s1, pt[3]-pt[1]+1\n",
    "        color = colors[i]\n",
    "        currentAxis.add_patch(plt.Rectangle(*coords, fill=False, edgecolor=color, linewidth=2))\n",
    "        currentAxis.text(pt[0], pt[1], display_txt, bbox={'facecolor':color, 'alpha':0.5})\n",
    "        j+=1"
   ]
  },
  {
   "cell_type": "code",
   "execution_count": null,
   "metadata": {
    "collapsed": true
   },
   "outputs": [],
   "source": []
  }
 ],
 "metadata": {
  "anaconda-cloud": {},
  "kernelspec": {
   "display_name": "Python [conda env:pt3]",
   "language": "python",
   "name": "conda-env-pt3-py"
  },
  "language_info": {
   "codemirror_mode": {
    "name": "ipython",
    "version": 3
   },
   "file_extension": ".py",
   "mimetype": "text/x-python",
   "name": "python",
   "nbconvert_exporter": "python",
   "pygments_lexer": "ipython3",
   "version": "3.5.4"
  },
  "toc": {
   "colors": {
    "hover_highlight": "#DAA520",
    "running_highlight": "#FF0000",
    "selected_highlight": "#FFD700"
   },
   "moveMenuLeft": true,
   "nav_menu": {
    "height": "207px",
    "width": "252px"
   },
   "navigate_menu": true,
   "number_sections": true,
   "sideBar": true,
   "threshold": 4,
   "toc_cell": false,
   "toc_section_display": "block",
   "toc_window_display": false,
   "widenNotebook": false
  }
 },
 "nbformat": 4,
 "nbformat_minor": 0
}
